{
 "cells": [
  {
   "cell_type": "markdown",
   "metadata": {},
   "source": [
    "# Mini Project\n",
    "# Level 8\n",
    "## Abubakar Aqiil\n",
    "## 30 Nov 2021\n",
    "## Version 1\n"
   ]
  },
  {
   "cell_type": "markdown",
   "metadata": {},
   "source": [
    "## Summary of the Question \n",
    "\n",
    "Write a multiple choice quiz procedural program where players roll a dice to move around a “board” that contains traps and secret passages. On each move they must answer a question. If they land on a trap and they get the question wrong they fall through the trap to an earlier square. If they land on a secret passage entrance and get the question right they jump ahead to a later square. On any other square they go back a square if they get the answer wrong."
   ]
  },
  {
   "cell_type": "markdown",
   "metadata": {},
   "source": [
    "## The literate program development"
   ]
  },
  {
   "cell_type": "markdown",
   "metadata": {},
   "source": [
    "### <span style=\"color: red;\">createQuizQuestion</span>\n",
    "\n",
    "#### What it does\n",
    "This method creates a question for our quiz.\n",
    "\n",
    "#### Implementation\n",
    "##### quizQuestion\n",
    "The quizQuestion type is created to store the question, choices and answer for a question that we might display in our quiz. It is followed by accessor methods which offer a degree of encapsulation which allows us to shield sensitive information from the user. The getter methods work by reading in the quizQuestion object as input and returning the corresponding attribute to the user. The setter methods work by reading in the quizQuestion object and a string as input. This string is then assigned to the corresponding attribute of the quizQuestion object.\n",
    "\n",
    "##### createQuizQuestion\n",
    "This function servers as an initialization method where it reads in the question, choice and answers and creates a quizQuestion object with this data. This is done using the getter and setter methods that we have defined. The function then returns this newly created object."
   ]
  },
  {
   "cell_type": "code",
   "execution_count": 1,
   "metadata": {},
   "outputs": [],
   "source": [
    "class quizQuestion\n",
    "{\n",
    "    String question;\n",
    "    String choice1;\n",
    "    String choice2;\n",
    "    String choice3;\n",
    "    String choice4;\n",
    "    String answer;\n",
    "}\n",
    "\n",
    "// Getter method to get the question\n",
    "public static String getQuestion(quizQuestion q)\n",
    "{\n",
    "    return q.question;\n",
    "}\n",
    "\n",
    "// Getter method to get choice 1\n",
    "public static String getChoice1(quizQuestion q)\n",
    "{\n",
    "    return q.choice1;\n",
    "}\n",
    "\n",
    "// Getter method to get choice 2\n",
    "public static String getChoice2(quizQuestion q)\n",
    "{\n",
    "    return q.choice2;\n",
    "}\n",
    "\n",
    "// Getter method to get choice 3\n",
    "public static String getChoice3(quizQuestion q)\n",
    "{\n",
    "    return q.choice3;\n",
    "}\n",
    "\n",
    "// Getter method to get choice 4\n",
    "public static String getChoice4(quizQuestion q)\n",
    "{\n",
    "    return q.choice4;\n",
    "}\n",
    "\n",
    "// Getter method to get the answer\n",
    "public static String getAnswer(quizQuestion q)\n",
    "{\n",
    "    return q.answer;\n",
    "}\n",
    "\n",
    "// Setter method to set value of question\n",
    "public static void setQuestion(quizQuestion q, String question)\n",
    "{\n",
    "    q.question = question;\n",
    "}\n",
    "\n",
    "// Setter method to set value of choice 1 for question\n",
    "public static void setChoice1(quizQuestion q, String value)\n",
    "{\n",
    "    q.choice1 = value;\n",
    "}\n",
    "\n",
    "// Setter method to set value of choice 2 for question\n",
    "public static void setChoice2(quizQuestion q, String value)\n",
    "{\n",
    "    q.choice2 = value;\n",
    "}\n",
    "\n",
    "// Setter method to set value of choice 3 for question\n",
    "public static void setChoice3(quizQuestion q, String value)\n",
    "{\n",
    "    q.choice3 = value;\n",
    "}\n",
    "\n",
    "// Setter method to set value of choice 4 for question\n",
    "public static void setChoice4(quizQuestion q, String value)\n",
    "{\n",
    "    q.choice4 = value;\n",
    "}\n",
    "\n",
    "// Setter method to set answer to question\n",
    "public static void setAnswer(quizQuestion q, String answer)\n",
    "{\n",
    "    q.answer = answer;\n",
    "}\n",
    "\n",
    "// Creates a new quizQuestion object\n",
    "// \n",
    "public static quizQuestion createQuizQuestion(String question, String choice1, String choice2, String choice3, String choice4, String answer)\n",
    "{\n",
    "    quizQuestion q = new quizQuestion();\n",
    "    \n",
    "    setQuestion(q, question);\n",
    "    setChoice1(q, choice1);\n",
    "    setChoice2(q, choice2);\n",
    "    setChoice3(q, choice3);\n",
    "    setChoice4(q, choice4);\n",
    "    setAnswer(q, answer);\n",
    "    \n",
    "    return q;\n",
    "} // END createQuizQuestion"
   ]
  },
  {
   "cell_type": "markdown",
   "metadata": {},
   "source": [
    "#### Testing"
   ]
  },
  {
   "cell_type": "code",
   "execution_count": 2,
   "metadata": {
    "tags": []
   },
   "outputs": [
    {
     "name": "stdout",
     "output_type": "stream",
     "text": [
      "Question: What won the EURO 2020 cup?\n",
      "A. Italy\n",
      "B. England\n",
      "C. Germany\n",
      "D. Brazil\n",
      "Answer: Italy\n"
     ]
    }
   ],
   "source": [
    "// TEST CODE for createQuizQuestion\n",
    "//\n",
    "quizQuestion question1 = createQuizQuestion(\"What won the EURO 2020 cup?\", \"Italy\", \"England\", \"Germany\", \"Brazil\", \"Italy\");\n",
    "System.out.println(\"Question: \" + getQuestion(question1));\n",
    "System.out.println(\"A. \" + getChoice1(question1));\n",
    "System.out.println(\"B. \" + getChoice2(question1));\n",
    "System.out.println(\"C. \" + getChoice3(question1));\n",
    "System.out.println(\"D. \" + getChoice4(question1));\n",
    "System.out.println(\"Answer: \" + getAnswer(question1));"
   ]
  },
  {
   "cell_type": "markdown",
   "metadata": {},
   "source": [
    "### <span style=\"color: red;\">askQuestion</span>\n",
    "\n",
    "#### What it does\n",
    "This method asks the user a question and records their answer.\n",
    "\n",
    "#### Implementation\n",
    "The function begins by creating a string, response, to store the users input and a scanner object to read this input in. The function takes in a quizQuestion object as input and we use this object to output a series of print statements containing the question and the available choices. The user is prompted for a response and this is read in using the nextLine() method. We also make use of the trim() method in order to remove any white space in the users input. This input is assigned to the string variable, response, and is returned by the function."
   ]
  },
  {
   "cell_type": "code",
   "execution_count": 3,
   "metadata": {},
   "outputs": [],
   "source": [
    "// Asks a question and reads in an answer\n",
    "// \n",
    "public static String askQuestion(quizQuestion q)\n",
    "{\n",
    "    String response;\n",
    "    Scanner scanner = new Scanner(System.in);\n",
    "    \n",
    "    System.out.println(getQuestion(q));\n",
    "    System.out.println(\"A. \" + getChoice1(q));\n",
    "    System.out.println(\"B. \" + getChoice2(q));\n",
    "    System.out.println(\"C. \" + getChoice3(q));\n",
    "    System.out.println(\"D. \" + getChoice4(q));\n",
    "\n",
    "    response = scanner.nextLine().trim(); // trim() method removes whitespace\n",
    "    return response;\n",
    "} // END askQuestion"
   ]
  },
  {
   "cell_type": "markdown",
   "metadata": {},
   "source": [
    "#### Testing"
   ]
  },
  {
   "cell_type": "code",
   "execution_count": 4,
   "metadata": {
    "tags": []
   },
   "outputs": [
    {
     "name": "stdout",
     "output_type": "stream",
     "text": [
      "What won the EURO 2020 cup?\n",
      "A. Italy\n",
      "B. England\n",
      "C. Germany\n",
      "D. Brazil\n"
     ]
    },
    {
     "name": "stdin",
     "output_type": "stream",
     "text": [
      " Italy\n"
     ]
    },
    {
     "name": "stdout",
     "output_type": "stream",
     "text": [
      "You have answered: Italy\n"
     ]
    }
   ],
   "source": [
    "// TEST CODE for askQuestion\n",
    "// \n",
    "quizQuestion question1 = createQuizQuestion(\"What won the EURO 2020 cup?\", \"Italy\", \"England\", \"Germany\", \"Brazil\", \"Italy\");\n",
    "String answer1 = askQuestion(question1);\n",
    "System.out.println(\"You have answered: \" + answer1)"
   ]
  },
  {
   "cell_type": "markdown",
   "metadata": {},
   "source": [
    "### <span style=\"color: red;\">checkAnswer</span>\n",
    "\n",
    "#### What it does\n",
    "This method checks if the user has answered a question correctly.\n",
    "\n",
    "#### Implementation\n",
    "The function takes in a quizQuestion object and a string answer as inputs. The function proceeds to an IF ELSE statement where the correct answer attribute of the object is compared with the users answer using the equals() method. If both string match, the user is congratulated and the function returns true. If the strings do not match, an appropriate message is displayed and the function returns false. It should be noted that the ELSE condition serves as a catch all in the event that the user has entered an invalid option or erroneous values."
   ]
  },
  {
   "cell_type": "code",
   "execution_count": 5,
   "metadata": {},
   "outputs": [],
   "source": [
    "// Checks if the user answered a question correctly\n",
    "// \n",
    "public static boolean checkAnswer(quizQuestion q, String answer)\n",
    "{\n",
    "    if (getAnswer(q).equals(answer))\n",
    "    {\n",
    "        System.out.println(\"Well done! You answered correctly!\\n\");\n",
    "        return true;\n",
    "    }\n",
    "    else\n",
    "    {\n",
    "        System.out.println(\"Oh no! Better luck next time.\\n\");\n",
    "        return false;\n",
    "    }\n",
    "} // END checkAnswer"
   ]
  },
  {
   "cell_type": "markdown",
   "metadata": {},
   "source": [
    "#### Testing"
   ]
  },
  {
   "cell_type": "code",
   "execution_count": 6,
   "metadata": {
    "tags": []
   },
   "outputs": [
    {
     "name": "stdout",
     "output_type": "stream",
     "text": [
      "What won the EURO 2020 cup?\n",
      "A. Italy\n",
      "B. England\n",
      "C. Germany\n",
      "D. Brazil\n"
     ]
    },
    {
     "name": "stdin",
     "output_type": "stream",
     "text": [
      " Italy\n"
     ]
    },
    {
     "name": "stdout",
     "output_type": "stream",
     "text": [
      "Well done! You answered correctly!\n",
      "\n"
     ]
    }
   ],
   "source": [
    "// TEST CODE for checkAnswer\n",
    "// \n",
    "quizQuestion question1 = createQuizQuestion(\"What won the EURO 2020 cup?\", \"Italy\", \"England\", \"Germany\", \"Brazil\", \"Italy\");\n",
    "String answer1 = askQuestion(question1);\n",
    "Boolean check1 = checkAnswer(question1, answer1);"
   ]
  },
  {
   "cell_type": "markdown",
   "metadata": {},
   "source": [
    "### <span style=\"color: red;\">rollDice</span>\n",
    "\n",
    "#### What it does\n",
    "This method simulates a dice roll\n",
    "\n",
    "#### Implementation\n",
    "This function uses the Random class to generate random numbers. In order to use this class, we must first import it. The function begins by declaring a new Random object rand. We also declare an integer, upperbound, to contain the highest value of our range. This value is not inclusive and we initially set it to 6. This means that the effective range of our dice is from 0 to 1. We will adjust for this in a moment. An integer, roll, is declared to store the result of our simulated dice roll. This is done using the nextInt() method on our rand object where the upperbound is 6. As previously stated, this will generate a number between 0 and 5. To adjust this range, we add 1 to our result and our range is now 1 to 6 as you would normally find on a regular dice. This integer value is then returned by the function."
   ]
  },
  {
   "cell_type": "code",
   "execution_count": 7,
   "metadata": {},
   "outputs": [],
   "source": [
    "import java.util.Random;\n",
    "\n",
    "// Simulates a dice roll\n",
    "// \n",
    "public static int rollDice()\n",
    "{\n",
    "    Random rand = new Random();\n",
    "    int upperbound = 6; // Generates values from 0 to 5\n",
    "    \n",
    "    int roll = rand.nextInt(upperbound) + 1; // Adjusts range to 1 to 6\n",
    "    return roll;\n",
    "} // END rollDice"
   ]
  },
  {
   "cell_type": "markdown",
   "metadata": {},
   "source": [
    "#### Testing"
   ]
  },
  {
   "cell_type": "code",
   "execution_count": 8,
   "metadata": {
    "tags": []
   },
   "outputs": [
    {
     "name": "stdout",
     "output_type": "stream",
     "text": [
      "You rolled 3.\n",
      "\n",
      "You rolled 4.\n",
      "\n",
      "You rolled 4.\n",
      "\n"
     ]
    }
   ],
   "source": [
    "// TEST CODE for rollDice\n",
    "// \n",
    "int roll1 = rollDice();\n",
    "System.out.println(\"You rolled \" + roll1 + \".\\n\");\n",
    "int roll2 = rollDice();\n",
    "System.out.println(\"You rolled \" + roll2 + \".\\n\");\n",
    "int roll3 = rollDice();\n",
    "System.out.println(\"You rolled \" + roll3 + \".\\n\");"
   ]
  },
  {
   "cell_type": "markdown",
   "metadata": {
    "tags": []
   },
   "source": [
    "### <span style=\"color: red;\">createPlayer</span>\n",
    "\n",
    "#### What it does\n",
    "This method creates a player object to store the name of a player, their position on the board and how many turns they have taken.\n",
    "\n",
    "#### Implementation\n",
    "##### player\n",
    "The player type is created to store the name of the player, their position on the board and how many turns they've taken. It is followed by accessor methods which offer a degree of encapsulation which allows us to shield sensitive information from the user. The getter methods work by reading in the player object as input and returning the corresponding attribute to the user. The setter methods work by reading in the player object and a string, if the user would like to set the players name, or an integer, if the user would like to set the users position on the board or how many moves they've taken.\n",
    "\n",
    "##### createQuizQuestion\n",
    "This function servers as an initialization method where it reads in the players name, board position and turns count and creates a player object with this data. This is done using the getter and setter methods that we have defined. The function then returns this newly created object."
   ]
  },
  {
   "cell_type": "code",
   "execution_count": 9,
   "metadata": {},
   "outputs": [],
   "source": [
    "class player\n",
    "{\n",
    "    String name;\n",
    "    int position;\n",
    "    int turns;\n",
    "}\n",
    "\n",
    "// Getter method to retrieve player name\n",
    "public static String getName(player p)\n",
    "{\n",
    "    return p.name;\n",
    "}\n",
    "\n",
    "// Getter method to retrieve player name\n",
    "public static int getPosition(player p)\n",
    "{\n",
    "    return p.position;\n",
    "}\n",
    "\n",
    "// Getter method to retrieve how many turns player has had\n",
    "public static int getTurns(player p)\n",
    "{\n",
    "    return p.turns;\n",
    "}\n",
    "\n",
    "// Setter method to set player name\n",
    "public static void setName(player p, String name)\n",
    "{\n",
    "    p.name = name;\n",
    "}\n",
    "\n",
    "// Setter method to set player position\n",
    "public static void setPosition(player p, int position)\n",
    "{\n",
    "    p.position = position;\n",
    "}\n",
    "\n",
    "// Setter method to set how many turns player has had\n",
    "public static void setTurns(player p, int turns)\n",
    "{\n",
    "    p.turns = turns;\n",
    "}\n",
    "\n",
    "// Creates a new player object\n",
    "// \n",
    "public static player createPlayer(String name, int position, int turns)\n",
    "{\n",
    "    player p = new player();\n",
    "    \n",
    "    setName(p, name);\n",
    "    setPosition(p, position);\n",
    "    setTurns(p, turns);\n",
    "    \n",
    "    return p;\n",
    "} // END createPlayer"
   ]
  },
  {
   "cell_type": "markdown",
   "metadata": {},
   "source": [
    "#### Testing"
   ]
  },
  {
   "cell_type": "code",
   "execution_count": 10,
   "metadata": {
    "tags": []
   },
   "outputs": [
    {
     "name": "stdout",
     "output_type": "stream",
     "text": [
      "Player name: Abubakar\n",
      "Player position: 1\n",
      "Abubakar has had 0 turns.\n"
     ]
    }
   ],
   "source": [
    "// TEST CODE for createPlayer\n",
    "// \n",
    "player player1 = createPlayer(\"Abubakar\", 1, 0);\n",
    "System.out.println(\"Player name: \" + getName(player1));\n",
    "System.out.println(\"Player position: \" + getPosition(player1));\n",
    "System.out.println(getName(player1) + \" has had \" + getTurns(player1) + \" turns.\")"
   ]
  },
  {
   "cell_type": "markdown",
   "metadata": {
    "tags": []
   },
   "source": [
    "### <span style=\"color: red;\">checkEndBoard</span>\n",
    "\n",
    "#### What it does\n",
    "This method checks if a player has reached the end of the board.\n",
    "\n",
    "#### Implementation\n",
    "This function takes in the integer array of the board and a player object p as arguments. An IF ELSE statement is used to check if the current position is greater than or equal to the board length. If the current position is greater, the user has reached the end of the board and the function returns true. If the current position is less, the user has yet to reach the end of the board and the function returns false."
   ]
  },
  {
   "cell_type": "code",
   "execution_count": 11,
   "metadata": {},
   "outputs": [],
   "source": [
    "// Check if player has reached end of board\n",
    "// \n",
    "public static boolean checkEndBoard(int[] board, player p)\n",
    "{\n",
    "    if (getPosition(p) >= board.length)\n",
    "    {\n",
    "        return true;\n",
    "    }\n",
    "    else\n",
    "    {\n",
    "        return false;\n",
    "    }\n",
    "} // END checkEndBoard"
   ]
  },
  {
   "cell_type": "markdown",
   "metadata": {},
   "source": [
    "#### Testing"
   ]
  },
  {
   "cell_type": "code",
   "execution_count": 12,
   "metadata": {
    "tags": []
   },
   "outputs": [
    {
     "name": "stdout",
     "output_type": "stream",
     "text": [
      "Keep playing!\n"
     ]
    }
   ],
   "source": [
    "// TEST CODE for checkEndBoard\n",
    "// \n",
    "int[] board = {37, 0, 0, 10, 0, 0, 0, 22, 0, 0,\n",
    "              0, 0, 0, 0, 0, 0, 0, 0, 0, 0,\n",
    "              21, 0, 0, 0, 0, 0, 0, 48, 0, 0,\n",
    "              0, 0, 0, 0, 0, -30, 0, 0, 0, 0,\n",
    "              0, 0, 0, 0, 0, 0, 0, -22, 0, 17,\n",
    "              0, 0, 0, 0, 0, 0, 0, 0, 0, 0,\n",
    "              0, 0, 0, 0, 0, 0, 0, 0, 0, 0,\n",
    "              21, 0, 0, 0, 0, 0, 0, 0, 0, 19,\n",
    "              0, 0, 0, 0, 0, 0, 0, 64, 0, 0,\n",
    "              0, 0, 0, 0, 39, 0, 19, 0, 0, 0};\n",
    "\n",
    "player player1 = createPlayer(\"Abubakar\", 99, 0);\n",
    "\n",
    "boolean endOfBoard = checkEndBoard(board, player1);\n",
    "if (endOfBoard)\n",
    "{\n",
    "    System.out.println(\"You have reached the end of the board\");\n",
    "}\n",
    "else\n",
    "{\n",
    "    System.out.println(\"Keep playing!\");\n",
    "}"
   ]
  },
  {
   "cell_type": "markdown",
   "metadata": {
    "tags": []
   },
   "source": [
    "### <span style=\"color: red;\">delayCode</span>\n",
    "\n",
    "#### What it does\n",
    "This method delays the execution of the program which allows the user to follow the program output more easily.\n",
    "\n",
    "#### Implementation\n",
    "The procedure uses a try statement where the program attempts to use the sleep() method in conjunction with the SECONDS unit. This will pause our program for a number of seconds, specifically, the integer value passed into the procedure is used to determine the number of seconds to pause the program. In the event that the try statement encounters any errors, it will naturally throw an InterruptedException. We can catch this and call the printStackTrace() method to print a stack trace on the error output stream.\n",
    "\n",
    "Reference: https://docs.oracle.com/javase/6/docs/api/java/lang/Throwable.html#printStackTrace()"
   ]
  },
  {
   "cell_type": "code",
   "execution_count": 13,
   "metadata": {},
   "outputs": [],
   "source": [
    "import java.util.concurrent.TimeUnit; // Needed to slow program down so players can follow along\n",
    "\n",
    "// Delay the execution of a program\n",
    "// \n",
    "public static void delayCode(int secondsToSleep)\n",
    "{\n",
    "    try \n",
    "    {\n",
    "      TimeUnit.SECONDS.sleep(secondsToSleep);\n",
    "    } catch (InterruptedException ie) \n",
    "    {\n",
    "      ie.printStackTrace();\n",
    "    }\n",
    "} // END delayCode"
   ]
  },
  {
   "cell_type": "markdown",
   "metadata": {},
   "source": [
    "#### Testing"
   ]
  },
  {
   "cell_type": "code",
   "execution_count": 14,
   "metadata": {
    "tags": []
   },
   "outputs": [
    {
     "name": "stdout",
     "output_type": "stream",
     "text": [
      "Code execution has been delayed.\n"
     ]
    }
   ],
   "source": [
    "// TEST CODE for delayCode\n",
    "// \n",
    "delayCode(2);\n",
    "System.out.println(\"Code execution has been delayed.\")"
   ]
  },
  {
   "cell_type": "markdown",
   "metadata": {},
   "source": [
    "### <span style=\"color: red;\">playerTurn</span>\n",
    "\n",
    "#### What it does\n",
    "This method simulates a players turn on the board game.\n",
    "\n",
    "#### Implementation\n",
    "This function begins by taking in an integer array of the board and a player object as arguments. The function simulates a dice roll by making a call to rollDice() and uses the delayCode() method to create a pause for this effect. The return result is stored in an integer variable, roll, and the value of the 'roll' is output to the user. The current position of the player is retrieved and the value of the roll is added to this value. The field containing the current position of the player is also updated and the number of turns is incremented by one. A boolean is declared to check if the user has reached the end of the board and a call is made the the function checkEndBoard() to check if so. An IF statement is used to evaluate the return value. If the user has reached the end of the board, the function returns the boolean value which is now true, otherwise, it continues with the rest of the function to simulate a players turn.\n",
    "\n",
    "The value of the board square is retrieved and stored in an integer variable. A quiz question is also created following this. The function then enters an IF ELSE staircase to evaluate the type of square the user has landed on. If the value is positive or negative, the square is a ladder or trap and the user is informed of this. If the value is 0, the square is a normal square and the user is informed of this. The players turn then ends and the function returns the false.\n",
    "\n",
    "If the user has landed on a ladder or trap, they are asked a question. Their answer is stored as a string and compared with the correct answer for the question using the checkAnswer method. This returns a boolean value. The function then proceeds to an IF ELSE staircase, if the user has answered correctly and is on a ladder, they go up the ladder. If the user has answered incorrectly and is on a trap, they fall through the trap. The positions of the user are updated and the function checks if the user has reached the end of the board returing the appropriate value for the boolean endOfBoard. In any other case, endOfBoard is returned by the function as the user does not move from their square. "
   ]
  },
  {
   "cell_type": "code",
   "execution_count": 15,
   "metadata": {},
   "outputs": [],
   "source": [
    "// Simulates a players turn\n",
    "// \n",
    "public static boolean playerTurn(int[] board, player p)\n",
    "{\n",
    "    System.out.println(\"\\n### \" + getName(p).toUpperCase() + \"'S TURN ###\");\n",
    "    delayCode(1);\n",
    "    System.out.println(\"[+] Rolling dice...\");\n",
    "    delayCode(2);\n",
    "    int roll = rollDice();\n",
    "    System.out.println(getName(p) + \" rolled \" + roll + \".\\n\");\n",
    "    \n",
    "    int current_position = getPosition(p) + roll;\n",
    "    setPosition(p, current_position);\n",
    "    setTurns(p, getTurns(p) + 1);\n",
    "    \n",
    "    boolean endOfBoard = checkEndBoard(board, p);\n",
    "    if (endOfBoard)\n",
    "    {\n",
    "        return endOfBoard;\n",
    "    }\n",
    "    \n",
    "    int board_square = board[current_position];\n",
    "    quizQuestion question = createQuizQuestion(\"What won the EURO 2020 cup?\", \"Italy\", \"England\", \"Germany\", \"Brazil\", \"Italy\"); \n",
    "    \n",
    "    if (board_square > 0)\n",
    "    {\n",
    "        System.out.println(\"You've landed on a ladder!\\n\");\n",
    "    }\n",
    "    else if (board_square < 0)\n",
    "    {\n",
    "        System.out.println(\"You've landed on a trap!\\n\");\n",
    "    }\n",
    "    else\n",
    "    {\n",
    "        System.out.println(\"You've landed on a normal square!\\n\");\n",
    "        delayCode(1);\n",
    "        return endOfBoard;\n",
    "    }\n",
    "    \n",
    "    delayCode(1);\n",
    "    String answer = askQuestion(question);\n",
    "    boolean correct_answer = checkAnswer(question, answer);\n",
    "    delayCode(1);\n",
    "    \n",
    "    if (correct_answer && board_square > 0)\n",
    "    {\n",
    "        current_position = current_position + board_square;\n",
    "        System.out.println(\"You've climbed up the ladder.\\n\");\n",
    "        setPosition(p, current_position);\n",
    "    }\n",
    "    else if (!(correct_answer) && board_square < 0)\n",
    "    {\n",
    "        current_position = current_position + board_square; // Adding a negative number\n",
    "        System.out.println(\"You've been eaten by a snake! Better luck next time.\\n\");\n",
    "        setPosition(p, current_position);\n",
    "    }\n",
    "    else\n",
    "    {\n",
    "        return endOfBoard;\n",
    "    }\n",
    "    \n",
    "    // Second check is needed to see if the user has won after going up a ladder\n",
    "    endOfBoard = checkEndBoard(board, p);\n",
    "    if (endOfBoard)\n",
    "    {\n",
    "        return endOfBoard;\n",
    "    }\n",
    "    \n",
    "    return endOfBoard;\n",
    "} // END playerTurn"
   ]
  },
  {
   "cell_type": "markdown",
   "metadata": {},
   "source": [
    "#### Testing"
   ]
  },
  {
   "cell_type": "code",
   "execution_count": 16,
   "metadata": {
    "tags": []
   },
   "outputs": [
    {
     "name": "stdout",
     "output_type": "stream",
     "text": [
      "The board has 100 squares.\n",
      "\n",
      "### ABUBAKAR'S TURN ###\n",
      "[+] Rolling dice...\n",
      "Abubakar rolled 6.\n",
      "\n",
      "You've landed on a ladder!\n",
      "\n",
      "What won the EURO 2020 cup?\n",
      "A. Italy\n",
      "B. England\n",
      "C. Germany\n",
      "D. Brazil\n"
     ]
    },
    {
     "name": "stdin",
     "output_type": "stream",
     "text": [
      " Brazil\n"
     ]
    },
    {
     "name": "stdout",
     "output_type": "stream",
     "text": [
      "Oh no! Better luck next time.\n",
      "\n",
      "Player name: Abubakar\n",
      "Player position: 7\n",
      "Abubakar has had 1 turns.\n",
      "End of board: false\n"
     ]
    }
   ],
   "source": [
    "// TEST CODE for playerTurn\n",
    "// \n",
    "// If it stores 0 then there is nothing there. If it stores a negative number then there is a trap with the number indicating how far they fall back, \n",
    "//and a positive number indicates a passage and how far they go forwards.\n",
    "int[] board = {37, 0, 0, 10, 0, 0, 0, 22, 0, 0,\n",
    "              0, 0, 0, 0, 0, 0, 0, 0, 0, 0,\n",
    "              21, 0, 0, 0, 0, 0, 0, 48, 0, 0,\n",
    "              0, 0, 0, 0, 0, -30, 0, 0, 0, 0,\n",
    "              0, 0, 0, 0, 0, 0, 0, -22, 0, 17,\n",
    "              0, 0, 0, 0, 0, 0, 0, 0, 0, 0,\n",
    "              0, 0, 0, 0, 0, 0, 0, 0, 0, 0,\n",
    "              21, 0, 0, 0, 0, 0, 0, 0, 0, 19,\n",
    "              0, 0, 0, 0, 0, 0, 0, 64, 0, 0,\n",
    "              0, 0, 0, 0, 39, 0, 19, 0, 0, 0};\n",
    "\n",
    "System.out.println(\"The board has \" + board.length + \" squares.\"); // Check how many squares board has\n",
    "\n",
    "player player1 = createPlayer(\"Abubakar\", 1, 0);\n",
    "boolean endOfBoard = playerTurn(board, player1);\n",
    "\n",
    "System.out.println(\"Player name: \" + getName(player1));\n",
    "System.out.println(\"Player position: \" + getPosition(player1));\n",
    "System.out.println(getName(player1) + \" has had \" + getTurns(player1) + \" turns.\");\n",
    "System.out.println(\"End of board: \" + endOfBoard);\n"
   ]
  },
  {
   "cell_type": "markdown",
   "metadata": {},
   "source": [
    "### <span style=\"color: red;\">newPlayers</span>\n",
    "\n",
    "#### What it does\n",
    "This method creates new player objects for each new player\n",
    "\n",
    "#### Implementation\n",
    "The function begins by creating an integer to store the amount of players. This is followed by a scanner which reads the users input in. The user is prompted to enter the amount of players and the nextLine() method is used to read this input in. As we want this to be an integer, we can use the parseInt() method to convert the string into an integer variable. Using this value, we create an array of player objects that is as long as the amount of players. The function also creates a string to store the name of each player. \n",
    "\n",
    "We can read in this input by using a FOR loop to iterate through each player object. Our count variable starts at 1 and the less than condition is evaluated to one more than the amount of players. This allows us to start counting our players from 1 instead of 0. After the user is prompted to enter the playuers name, we read this in using the nextLine() method and initialize a new player object using the input string. We initialise the position of the player at square 1, the beginiing of the board, and the number of turns as 0. We then store this newly created player object into our players array which we declared before the FOR loop. This is stored at one less than the count variable so that our array is indexed from 0. This array of player objects is then returned to the user."
   ]
  },
  {
   "cell_type": "code",
   "execution_count": 17,
   "metadata": {},
   "outputs": [],
   "source": [
    "// Initialize new players for a new game\n",
    "// \n",
    "public static player[] newPlayers()\n",
    "{\n",
    "    int player_count;\n",
    "    Scanner scanner = new Scanner(System.in);\n",
    "    \n",
    "    System.out.print(\"How many players are there? \");\n",
    "    player_count = Integer.parseInt(scanner.nextLine()); // Changed code using nextInt() before nextLine() as this causes scanner to read in \\n instead of next line as nextInt() keeps cursor on same line.\n",
    "    \n",
    "    player[] players = new player[player_count];\n",
    "    String new_player_name;\n",
    "    \n",
    "    for (int i = 1; i < player_count + 1; i++)\n",
    "    {\n",
    "        System.out.println(\"Enter player \" + i + \" name: \");\n",
    "        new_player_name = scanner.nextLine();\n",
    "        player new_player = createPlayer(new_player_name, 1, 0);\n",
    "        players[i-1] = new_player;\n",
    "    }\n",
    "    \n",
    "    return players;\n",
    "} // END newPlayers"
   ]
  },
  {
   "cell_type": "markdown",
   "metadata": {},
   "source": [
    "#### Testing"
   ]
  },
  {
   "cell_type": "code",
   "execution_count": 18,
   "metadata": {
    "tags": []
   },
   "outputs": [
    {
     "name": "stdout",
     "output_type": "stream",
     "text": [
      "How many players are there? "
     ]
    },
    {
     "name": "stdin",
     "output_type": "stream",
     "text": [
      " 2\n"
     ]
    },
    {
     "name": "stdout",
     "output_type": "stream",
     "text": [
      "Enter player 1 name: \n"
     ]
    },
    {
     "name": "stdin",
     "output_type": "stream",
     "text": [
      " Paul\n"
     ]
    },
    {
     "name": "stdout",
     "output_type": "stream",
     "text": [
      "Enter player 2 name: \n"
     ]
    },
    {
     "name": "stdin",
     "output_type": "stream",
     "text": [
      " Raymond\n"
     ]
    },
    {
     "name": "stdout",
     "output_type": "stream",
     "text": [
      "\n",
      "Player 1 is Paul\n",
      "Player position: 1\n",
      "Paul has had 0 turns.\n",
      "\n",
      "Player 2 is Raymond\n",
      "Player position: 1\n",
      "Raymond has had 0 turns.\n"
     ]
    }
   ],
   "source": [
    "// TEST CODE for newPlayers\n",
    "// \n",
    "player[] players = newPlayers();\n",
    "\n",
    "for (int i = 1; i < players.length + 1; i++)\n",
    "{ \n",
    "    System.out.println(\"\\nPlayer \" + i + \" is \" + getName(players[i-1]));\n",
    "    System.out.println(\"Player position: \" + getPosition(players[i-1]));\n",
    "    System.out.println(getName(players[i-1]) + \" has had \" + getTurns(players[i-1]) + \" turns.\");\n",
    "}\n"
   ]
  },
  {
   "cell_type": "markdown",
   "metadata": {
    "tags": []
   },
   "source": [
    "### <span style=\"color: red;\">exportLeaderboard</span>\n",
    "\n",
    "#### What it does\n",
    "This method exports the leaderboard and writes to the leaderboard csv file\n",
    "\n",
    "#### Implementation\n",
    "The method begins by importing the entire java input/output (io) library. The procedure takes an array of type player as an argument and this will contain an array of the all the past winners. We create an output stream by first creating a new FileWriter opening a file called \"leaderboard.csv\" and connecting this to a PrintWriter object. This PrintWriter object will allow us to use the println() method in order to write to our csv file. \n",
    "\n",
    "It should be noted that creating a new FileWriter requries error handling to handle IOExceptions. In this instance, we throw the exception which will be handled by the method which makes a call exportLeaderboard().\n",
    "\n",
    "We then print the headers of the columns to our file and for each player in our array, we use a FOR loop to print out that players name, position and turns taken to finish the game. These values are retrieved using getter methods and are written to the csv file. After this has been completed, we close the output stream to release the file and make it available for other programs or methods."
   ]
  },
  {
   "cell_type": "code",
   "execution_count": 19,
   "metadata": {},
   "outputs": [],
   "source": [
    "import java.io.*; \n",
    "\n",
    "// Export the leadboard\n",
    "// \n",
    "public static void exportLeaderboard(player[] players) throws IOException\n",
    "{ \n",
    "    PrintWriter outputStream = new PrintWriter(new FileWriter(\"leaderboard.csv\"));\n",
    "    outputStream.println(\"Name, Position, Turns\");\n",
    "    \n",
    "    for (player p : players) \n",
    "    { \n",
    "        outputStream.println(getName(p) + \", \" + getPosition(p) + \", \" + getTurns(p));\n",
    "    }\n",
    "    \n",
    "    outputStream.close();\n",
    "} // END exportLeaderboard"
   ]
  },
  {
   "cell_type": "markdown",
   "metadata": {},
   "source": [
    "#### Testing"
   ]
  },
  {
   "cell_type": "code",
   "execution_count": 20,
   "metadata": {
    "tags": []
   },
   "outputs": [],
   "source": [
    "// TEST CODE for exportLeaderboard\n",
    "//\n",
    "player player1 = createPlayer(\"Abubakar\", 100, 10);\n",
    "player player2 = createPlayer(\"Raymond\", 100, 15);\n",
    "player player3 = createPlayer(\"Paul\", 100, 20);\n",
    "\n",
    "player[] players = {player1, player2, player3};\n",
    "\n",
    "exportLeaderboard(players);"
   ]
  },
  {
   "cell_type": "markdown",
   "metadata": {
    "tags": []
   },
   "source": [
    "### <span style=\"color: red;\">exportGame</span>\n",
    "\n",
    "#### What it does\n",
    "This method saves and exports the current game \n",
    "\n",
    "#### Implementation\n",
    "The procedure begins by passing an array of type player as an argument. This array will contain the player objects of the all the past winners. We create a scanner object and prompt the user to enter a name so that they can identity which file contains their game. After this string value is read in, it is assigned to the string filename. \n",
    "\n",
    "We create an output stream by creating a new FileWriter opening a file labeled with the input filename concatenated with the \".csv\" file extension. This FileWriter object is then connected to a PrintWriter object that object will allow us to use the println() method in order to write to our csv file. \n",
    "\n",
    "It should be noted that creating a new FileWriter requires error handling to handle IOExceptions. In this instance, we throw the exception which will be handled by the method which makes a call exportGame().\n",
    "\n",
    "We then print the headers of the columns to our file and for each player in our array, we use a FOR loop to print out that players name, position and turns taken to finish the game. These values are retrieved using getter methods and are written to the csv file. After this has been completed, we close the output stream to release the file and make it available for other programs or methods."
   ]
  },
  {
   "cell_type": "code",
   "execution_count": 21,
   "metadata": {},
   "outputs": [],
   "source": [
    "// Export the current game\n",
    "// \n",
    "public static void exportGame(player[] players) throws IOException\n",
    "{\n",
    "    Scanner scanner = new Scanner(System.in);\n",
    "    \n",
    "    System.out.println(\"Please enter the csv filename (without file extension): \");\n",
    "    String filename = scanner.nextLine();\n",
    "    \n",
    "    PrintWriter outputStream = new PrintWriter(new FileWriter(filename + \".csv\"));\n",
    "    outputStream.println(\"Name, Position, Turns\");\n",
    "    \n",
    "    for (player p : players) \n",
    "    { \n",
    "        outputStream.println(getName(p) + \", \" + getPosition(p) + \", \" + getTurns(p));\n",
    "    }\n",
    "    \n",
    "    outputStream.close();\n",
    "} // END exportGame"
   ]
  },
  {
   "cell_type": "markdown",
   "metadata": {},
   "source": [
    "#### Testing"
   ]
  },
  {
   "cell_type": "code",
   "execution_count": 22,
   "metadata": {
    "tags": []
   },
   "outputs": [
    {
     "name": "stdout",
     "output_type": "stream",
     "text": [
      "Please enter the csv filename (without file extension): \n"
     ]
    },
    {
     "name": "stdin",
     "output_type": "stream",
     "text": [
      " test\n"
     ]
    }
   ],
   "source": [
    "// TEST CODE for exportGame\n",
    "//\n",
    "player player1 = createPlayer(\"Abubakar\", 100, 15);\n",
    "player player2 = createPlayer(\"Raymond\", 100, 25);\n",
    "player player3 = createPlayer(\"Paul\", 100, 3);\n",
    "\n",
    "player[] players = {player1, player2, player3};\n",
    "\n",
    "exportGame(players);"
   ]
  },
  {
   "cell_type": "markdown",
   "metadata": {
    "tags": []
   },
   "source": [
    "### <span style=\"color: red;\">importLeaderboard</span>\n",
    "\n",
    "#### What it does\n",
    "This method imports the previous winners from the leaderboard csv file.\n",
    "\n",
    "#### Implementation\n",
    "The function begins by creating a new FileReader object and opening a file called \"leaderboard.csv\" which is connected to a BufferedReader object. This BufferedReader object will allow us to use the readLine() method in order to read from our csv file.\n",
    "\n",
    "It should be noted that creating a new FileReader requries error handling to handle IOExceptions. In this instance, we throw the exception which will be handled by the method which makes a call importLeaderboard().\n",
    "\n",
    "We then create an ArrayList object players of type player to store each player as we read them from the csv file. An additional befenif of using ArrayLists means that we do not need to define the size of the array. As the amount of entries on the leaderboard is unknown, an ArrayList is the ideal data type to use. A string line is also declared, it's purpose will become evident momentarily. After this declaration, we skip the first line of the input stream by calling the readLine() method. This effectively skips the first line of the csv file which will contain the headers of the columns.\n",
    "\n",
    "Following this, we enter a WHILE loop which will iterate until it reaches the last entry of our file where the readLine() will return null indicating the EOF character. We store the values read in by the input stream into the string line which we declared earlier. This will allow us to manipulate this data without making additional calls to readLine() as this would move the file pointer to the following lines. Once we branch into the WHILE loop, we create a string array called values that will split the line that has been read in by \", \" effectively separating the three variables on each line. As this is a string array, we can access each value by its index and we pass these values in to the createPlayer() initialization method in order to create a player object. This player object is then added to our array list. We repeat this until we reach the end of the file.\n",
    "\n",
    "After this has been completed, we close the input stream to release the file and make it available for other programs or methods. Our array list is converted to an array of type player and this is returned by the function."
   ]
  },
  {
   "cell_type": "code",
   "execution_count": 23,
   "metadata": {},
   "outputs": [],
   "source": [
    "// Import leaderboard\n",
    "// \n",
    "public static player[] importLeaderboard() throws IOException\n",
    "{\n",
    "    BufferedReader inputStream = new BufferedReader(new FileReader(\"leaderboard.csv\"));\n",
    "    \n",
    "    ArrayList<player> players = new ArrayList<player>(); // Create an ArrayList object\n",
    "    \n",
    "    String line;\n",
    "    inputStream.readLine();\n",
    "    while ((line = inputStream.readLine()) != null)\n",
    "    {\n",
    "        String[] values = line.split(\", \");\n",
    "        player p = createPlayer(values[0], Integer.parseInt(values[1]), Integer.parseInt(values[2]));\n",
    "        players.add(p);\n",
    "    }\n",
    "    \n",
    "    inputStream.close();\n",
    "    \n",
    "    player[] playersArray = players.toArray(new player[players.size()]);\n",
    "    return playersArray;\n",
    "} // END importLeaderboard"
   ]
  },
  {
   "cell_type": "markdown",
   "metadata": {},
   "source": [
    "#### Testing"
   ]
  },
  {
   "cell_type": "code",
   "execution_count": 24,
   "metadata": {
    "tags": []
   },
   "outputs": [
    {
     "name": "stdout",
     "output_type": "stream",
     "text": [
      "Abubakar, 100, 10\n",
      "Raymond, 100, 15\n",
      "Paul, 100, 20\n"
     ]
    }
   ],
   "source": [
    "// TEST CODE for importLeaderboard\n",
    "//\n",
    "player[] players = importLeaderboard();\n",
    "\n",
    "for (player p : players) \n",
    "{ \n",
    "    System.out.println(getName(p) + \", \" + getPosition(p) + \", \" + getTurns(p));\n",
    "}"
   ]
  },
  {
   "cell_type": "markdown",
   "metadata": {
    "tags": []
   },
   "source": [
    "### <span style=\"color: red;\">importGame</span>\n",
    "\n",
    "#### What it does\n",
    "This method imports a saved game from a csv file.\n",
    "\n",
    "#### Implementation\n",
    "The function begins by creating an empty string to store a filename. A scanner object is created to read in the users input. We then enter a for loop where the condition, fileExists is declared and initialized to false. While fileExists is equal to false, the function will repeatedly as the user to enter a filename. Once the user has entered a filename, it is read in using the nextLine() method and assifned to a File data type called f. We then enter an IF statement to evaluate if this file exists using the exists() method. If the file exists, the boolean is assigned true and the WHILE loop ends. If not, the user is prompted until a valid filename is entered.\n",
    "\n",
    "One a valid filename is obtained, we create a new FileReader object and open a file labeled with the filename concatenated with the csv file extension. This FileReader object is then connected to a BufferedReader object. This BufferedReader object will allow us to use the readLine() method in order to read from our csv file.\n",
    "\n",
    "It should be noted that creating a new FileReader requries error handling to handle IOExceptions. In this instance, we throw the exception which will be handled by the method which makes a call importGame().\n",
    "\n",
    "We then create an ArrayList object players of type player to store each player as we read them from the csv file. An additional benefit of using ArrayLists means that we do not need to define the size of the array. As the amount of entries on the leaderboard is unknown, an ArrayList is the ideal data type to use. A string line is also declared, it's purpose will become evident momentarily. After this declaration, we skip the first line of the input stream by calling the readLine() method. This effectively skips the first line of the csv file which will contain the headers of the columns.\n",
    "\n",
    "Following this, we enter a WHILE loop which will iterate until it reaches the last entry of our file where the readLine() will return null indicating the EOF character. We store the values read in by the input stream into the string line which we declared earlier. This will allow us to manipulate this data without making additional calls to readLine() as this would move the file pointer to the following lines. Once we branch into the WHILE loop, we create a string array called values that will split the line that has been read in by \", \" effectively separating the three variables on each line. As this is a string array, we can access each value by its index and we pass these values in to the createPlayer() initialization method in order to create a player object. This player object is then added to our array list. We repeat this until we reach the end of the file.\n",
    "\n",
    "After this has been completed, we close the input stream to release the file and make it available for other programs or methods. Our array list is converted to an array of type player and this is returned by the function."
   ]
  },
  {
   "cell_type": "code",
   "execution_count": 25,
   "metadata": {},
   "outputs": [],
   "source": [
    "// Import existing board\n",
    "// \n",
    "public static player[] importGame() throws IOException\n",
    "{\n",
    "    String filename = \"\";\n",
    "    Scanner scanner = new Scanner(System.in);\n",
    "    \n",
    "    boolean fileExists = false;\n",
    "    \n",
    "    while (!fileExists)\n",
    "    {\n",
    "        System.out.println(\"Please enter the csv filename (without file extension): \");\n",
    "        filename = scanner.nextLine();\n",
    "        \n",
    "        // Get file by creating new File object\n",
    "        File f = new File(filename + \".csv\");\n",
    "\n",
    "        if (f.exists())\n",
    "        {\n",
    "            //System.out.println(\"DEBUG: FILE EXISTS\\n\");\n",
    "            fileExists = true;\n",
    "        }\n",
    "        else\n",
    "        {\n",
    "            System.out.println(\"There was an error opening your file. Please try again.\\n\");\n",
    "        }\n",
    "    }\n",
    "\n",
    "    BufferedReader inputStream = new BufferedReader(new FileReader(filename + \".csv\"));\n",
    "    \n",
    "    ArrayList<player> players = new ArrayList<player>(); // Create an ArrayList object\n",
    "    \n",
    "    String line;\n",
    "    inputStream.readLine();\n",
    "    while ((line = inputStream.readLine()) != null)\n",
    "    {\n",
    "        String[] values = line.split(\", \");\n",
    "        player p = createPlayer(values[0], Integer.parseInt(values[1]), Integer.parseInt(values[2]));\n",
    "        players.add(p);\n",
    "    }\n",
    "    \n",
    "    inputStream.close();\n",
    "    \n",
    "    player[] playersArray = players.toArray(new player[players.size()]);\n",
    "    return playersArray;\n",
    "} // END importGame"
   ]
  },
  {
   "cell_type": "markdown",
   "metadata": {},
   "source": [
    "#### Testing"
   ]
  },
  {
   "cell_type": "code",
   "execution_count": 26,
   "metadata": {
    "tags": []
   },
   "outputs": [
    {
     "name": "stdout",
     "output_type": "stream",
     "text": [
      "Please enter the csv filename (without file extension): \n"
     ]
    },
    {
     "name": "stdin",
     "output_type": "stream",
     "text": [
      " test\n"
     ]
    },
    {
     "name": "stdout",
     "output_type": "stream",
     "text": [
      "Abubakar, 100, 15\n",
      "Raymond, 100, 25\n",
      "Paul, 100, 3\n"
     ]
    }
   ],
   "source": [
    "// TEST CODE for importGame\n",
    "//\n",
    "player[] players = importGame();\n",
    "\n",
    "for (player p : players) \n",
    "{ \n",
    "    System.out.println(getName(p) + \", \" + getPosition(p) + \", \" + getTurns(p));\n",
    "}"
   ]
  },
  {
   "cell_type": "markdown",
   "metadata": {
    "tags": []
   },
   "source": [
    "### <span style=\"color: red;\">gameMode</span>\n",
    "\n",
    "#### What it does\n",
    "This method asks the user if they would like to load a saved game or start a new one.\n",
    "\n",
    "#### Implementation\n",
    "The method begins by declaring an integer response and initializing it as -1. This variable will be used to store the users choice once they are presented with the main menu. A scanner object is also created so that we can read in this choice. We then declare an array of type players and a boolean loop which is initialized as true. We then enter a WHILE loop that will continue with no stopping condition. This is because we want to continue looping the main menu until a valid choice has been selected and executed successfully. Within our WHILE loop is another nested WHILE loop that will continue looping until the user chooses a valid option from our menu. The user is advised that they have two options which are printed to them as a string. Once they are prompted for an answer, this value is read in using the nextInt() method and is assigned to the integer variable response. We also execute the nextLine() method in order to move the cursor onto the next line. Should the user not choose a valid option, this menu will loop until a valid option is selected.\n",
    "\n",
    "If the user has chosen option 1, we make a call to newPlayers() to initialize a new game and the return array of this call is assigned to the player array players. This player array is then returned by the function. \n",
    "\n",
    "If the user has chosen option 2, we make a call to importGame() to start a new game and the return array of this call is assigned to the player array players. This player array is then returned by the function. Should any errors occur, the exceptions are caught and the WHILE loop will move onto its next iteration.\n",
    "\n",
    "An empty array is returned to the user should an unforeseen errors arise. However, the program would not normally reach the final return statement within the gameMode() function."
   ]
  },
  {
   "cell_type": "code",
   "execution_count": 27,
   "metadata": {},
   "outputs": [],
   "source": [
    "// Check if user would like to load an existing game or create a new game\n",
    "// \n",
    "public static player[] gameMode() \n",
    "{\n",
    "    int response = -1;\n",
    "    Scanner scanner = new Scanner(System.in);\n",
    "    \n",
    "    player[] players;\n",
    "    boolean loop = true;\n",
    "    \n",
    "    while (loop)\n",
    "    {\n",
    "        while (!(response == 1 || response == 2))\n",
    "        {\n",
    "            System.out.println(\"Choose an option:\\n\"\n",
    "                               + \"1. Start new game\\n\"\n",
    "                               + \"2. Load existing game\");\n",
    "            System.out.print(\"Choice (1 or 2): \");\n",
    "            response = scanner.nextInt();\n",
    "            scanner.nextLine();\n",
    "        }\n",
    "        \n",
    "        if (response == 2)\n",
    "        {\n",
    "            try\n",
    "            {\n",
    "                players = importGame();\n",
    "                return players;\n",
    "            }\n",
    "            catch (IOException e)\n",
    "            { \n",
    "            }\n",
    "        }\n",
    "        else\n",
    "        {\n",
    "            players = newPlayers();\n",
    "            return players;\n",
    "        }\n",
    "    }\n",
    "    \n",
    "    System.out.println(\"DEBUG: Returning players array\");\n",
    "    \n",
    "    players = new player[0];\n",
    "    return players;\n",
    "} // END gameMode"
   ]
  },
  {
   "cell_type": "markdown",
   "metadata": {},
   "source": [
    "#### Testing"
   ]
  },
  {
   "cell_type": "code",
   "execution_count": 28,
   "metadata": {
    "tags": []
   },
   "outputs": [
    {
     "name": "stdout",
     "output_type": "stream",
     "text": [
      "Choose an option:\n",
      "1. Start new game\n",
      "2. Load existing game\n",
      "Choice (1 or 2): "
     ]
    },
    {
     "name": "stdin",
     "output_type": "stream",
     "text": [
      " 2\n"
     ]
    },
    {
     "name": "stdout",
     "output_type": "stream",
     "text": [
      "Please enter the csv filename (without file extension): \n"
     ]
    },
    {
     "name": "stdin",
     "output_type": "stream",
     "text": [
      " test\n"
     ]
    },
    {
     "name": "stdout",
     "output_type": "stream",
     "text": [
      "Abubakar, 100, 15\n",
      "Raymond, 100, 25\n",
      "Paul, 100, 3\n"
     ]
    }
   ],
   "source": [
    "// TEST CODE for gameMode\n",
    "// \n",
    "player[] players = gameMode();\n",
    "\n",
    "for (player p : players) \n",
    "{ \n",
    "    System.out.println(getName(p) + \", \" + getPosition(p) + \", \" + getTurns(p));\n",
    "}"
   ]
  },
  {
   "cell_type": "markdown",
   "metadata": {
    "tags": []
   },
   "source": [
    "### <span style=\"color: red;\">swap</span>\n",
    "\n",
    "#### What it does\n",
    "This method swaps two items within the same array.\n",
    "\n",
    "#### Implementation\n",
    "The procedure takes in a player array and two integer positions as arguments. A temporary variable is created to store the player object at the first position in the array. The player object at the second position in the array is then assigned to the first position of the array. The player object at the second position of the array is then updated and assigned the temp variable which is holding the player object at the initial position within the array.\n",
    "\n",
    "As we manipulate this array using java pass-by-reference, we do not need to return anything."
   ]
  },
  {
   "cell_type": "code",
   "execution_count": 29,
   "metadata": {},
   "outputs": [],
   "source": [
    "// Swap two entires in an array of type player\n",
    "// \n",
    "public static void swap(player[] leaderboard, int currentPosition, int nextPosition)\n",
    "{\n",
    "    player temp = leaderboard[currentPosition];\n",
    "    leaderboard[currentPosition] = leaderboard[nextPosition];\n",
    "    leaderboard[nextPosition] = temp;\n",
    "} // END swap"
   ]
  },
  {
   "cell_type": "markdown",
   "metadata": {},
   "source": [
    "#### Testing"
   ]
  },
  {
   "cell_type": "code",
   "execution_count": 30,
   "metadata": {
    "tags": []
   },
   "outputs": [
    {
     "name": "stdout",
     "output_type": "stream",
     "text": [
      "[1] Abubakar Turns: 15\n",
      "[2] Paul Turns: 3\n",
      "[3] Raymond Turns: 25\n"
     ]
    }
   ],
   "source": [
    "// TEST CODE for swap\n",
    "// \n",
    "player player1 = createPlayer(\"Abubakar\", 100, 15);\n",
    "player player2 = createPlayer(\"Raymond\", 100, 25);\n",
    "player player3 = createPlayer(\"Paul\", 100, 3);\n",
    "\n",
    "player[] players = {player1, player2, player3};\n",
    "\n",
    "swap(players, 1, 2);\n",
    "\n",
    "for (int i = 1; i <= players.length; i++)\n",
    "{\n",
    "    System.out.println(\"[\" + i + \"] \" + getName(players[i-1]) + \" Turns: \" + getTurns(players[i-1]));\n",
    "}"
   ]
  },
  {
   "cell_type": "markdown",
   "metadata": {
    "tags": []
   },
   "source": [
    "### <span style=\"color: red;\">sortLeaderboard</span>\n",
    "\n",
    "#### What it does\n",
    "This array sorts the Leaderboard ranking it by the least amount of turns.\n",
    "\n",
    "#### Implementation\n",
    "This procedure begins by declaring a final integer called ARRAY_SIZE which is equal to the length of the leaderboard. A boolean, sorted, is declared and initialized to false, this boolean will remain false while the leaderboard remains unsorted. Another integer variable pass is created and initialized to 0. \n",
    "\n"
   ]
  },
  {
   "cell_type": "code",
   "execution_count": 31,
   "metadata": {},
   "outputs": [],
   "source": [
    "// Sort the leaderboard by lowest turn count\n",
    "// \n",
    "public static void sortLeaderboard(player[] leaderboard)\n",
    "{\n",
    "    final int ARRAY_SIZE = leaderboard.length;\n",
    "    //System.out.println(ARRAY_SIZE);\n",
    "    \n",
    "    boolean sorted = false;\n",
    "    int pass = 0;\n",
    "    \n",
    "    while (!sorted)\n",
    "    {\n",
    "        sorted = true;\n",
    "        \n",
    "        for (int position = 0; position < ARRAY_SIZE - 1 - pass; position++) // Subtract 1 as array is indexed from 0\n",
    "        {\n",
    "            //System.out.println(\"DEBUG: Checking \" + position + \" < \" + (ARRAY_SIZE - pass - 1));\n",
    "            //System.out.println(\"DEBUG:          \" + getTurns(leaderboard[position]) + \" < \" + getTurns(leaderboard[position + 1]));\n",
    "            if (getTurns(leaderboard[position]) > getTurns(leaderboard[position + 1]))\n",
    "            {\n",
    "                //System.out.println(\"DEBUG: Swapping\");\n",
    "                swap(leaderboard, position, position + 1);\n",
    "                //System.out.println(\"DEBUG: SWAPPED\");\n",
    "                sorted = false;\n",
    "            }\n",
    "        }\n",
    "        \n",
    "        //System.out.println(\"DEBUG: Increment Pass\\n\");\n",
    "        pass = pass + 1;\n",
    "    }\n",
    "} // END sortLeaderboard"
   ]
  },
  {
   "cell_type": "markdown",
   "metadata": {},
   "source": [
    "#### Testing"
   ]
  },
  {
   "cell_type": "code",
   "execution_count": 32,
   "metadata": {
    "tags": []
   },
   "outputs": [
    {
     "name": "stdout",
     "output_type": "stream",
     "text": [
      "[1] Paul Turns: 3\n",
      "[2] Abubakar Turns: 15\n",
      "[3] Raymond Turns: 25\n"
     ]
    }
   ],
   "source": [
    "// TEST CODE for sortLeaderBoard\n",
    "// \n",
    "player player1 = createPlayer(\"Abubakar\", 100, 15);\n",
    "player player2 = createPlayer(\"Raymond\", 100, 25);\n",
    "player player3 = createPlayer(\"Paul\", 100, 3);\n",
    "\n",
    "player[] players = {player1, player2, player3};\n",
    "sortLeaderboard(players);\n",
    "\n",
    "for (int i = 1; i <= players.length; i++)\n",
    "{\n",
    "    System.out.println(\"[\" + i + \"] \" + getName(players[i-1]) + \" Turns: \" + getTurns(players[i-1]));\n",
    "}"
   ]
  },
  {
   "cell_type": "markdown",
   "metadata": {
    "tags": []
   },
   "source": [
    "### <span style=\"color: red;\">updateLeaderboard</span>\n",
    "\n",
    "#### What it does\n",
    "This method updates and sorts the leaderboard\n",
    "\n",
    "#### Implementation\n",
    "The function begins by passing in an player array, players, that contains the previous winners imported from our leaderboard file. A player object, winner, is also imported and this is the winner of the current game. The function initializes an integer size, set to the length of the players array. We create a new player array, temp, that is equal to one more than the size of the players array. This will allow us to accommodate the new winner. The function then enters a FOR loop copying the previous winners into the new array and then adds the new winner into this array. The players array is then changed to point to the new updated array. This array is then sorted by order of least amount of turns to win which is the return of the call to sortLeaderboard(). This sorted array is then returned by the function."
   ]
  },
  {
   "cell_type": "code",
   "execution_count": 33,
   "metadata": {},
   "outputs": [],
   "source": [
    "// Update the leaderboard with a new winner\n",
    "// \n",
    "public static player[] updateLeaderboard(player[] players, player winner)\n",
    "{\n",
    "    int size = players.length;\n",
    "    \n",
    "    // Creates temp array of type player\n",
    "    player[] temp = new player[size + 1];\n",
    "    \n",
    "    // System.out.println(\"DEBUG: Copying values\");\n",
    "    // Copy across existing values\n",
    "    for (int i = 0; i < size; i++)\n",
    "    {\n",
    "        temp[i] = players[i];\n",
    "    }\n",
    "    \n",
    "    // System.out.println(\"DEBUG: Adding new value\");\n",
    "    // Adds in new value\n",
    "    temp[size] = winner;\n",
    "    players = temp;\n",
    "    \n",
    "    // System.out.println(\"DEBUG: Sorting values\");\n",
    "    sortLeaderboard(players);\n",
    "    \n",
    "    return players;\n",
    "} // END updateLeaderboard"
   ]
  },
  {
   "cell_type": "markdown",
   "metadata": {},
   "source": [
    "#### Testing"
   ]
  },
  {
   "cell_type": "code",
   "execution_count": 34,
   "metadata": {
    "tags": []
   },
   "outputs": [
    {
     "name": "stdout",
     "output_type": "stream",
     "text": [
      "[1] Abubakar Turns: 15\n",
      "[2] Raymond Turns: 25\n",
      "\n",
      "\n",
      "[1] Paul Turns: 3\n",
      "[2] Abubakar Turns: 15\n",
      "[3] Raymond Turns: 25\n"
     ]
    }
   ],
   "source": [
    "// TEST CODE for updateLeaderboard\n",
    "// \n",
    "player player1 = createPlayer(\"Abubakar\", 100, 15);\n",
    "player player2 = createPlayer(\"Raymond\", 100, 25);\n",
    "player player3 = createPlayer(\"Paul\", 100, 3);\n",
    "\n",
    "player[] players = {player1, player2};\n",
    "\n",
    "for (int i = 1; i <= players.length; i++)\n",
    "{\n",
    "    System.out.println(\"[\" + i + \"] \" + getName(players[i-1]) + \" Turns: \" + getTurns(players[i-1]));\n",
    "}\n",
    "\n",
    "System.out.println(\"\\n\");\n",
    "\n",
    "players = updateLeaderboard(players, player3);\n",
    "\n",
    "for (int i = 1; i <= players.length; i++)\n",
    "{\n",
    "    System.out.println(\"[\" + i + \"] \" + getName(players[i-1]) + \" Turns: \" + getTurns(players[i-1]));\n",
    "}"
   ]
  },
  {
   "cell_type": "markdown",
   "metadata": {
    "tags": []
   },
   "source": [
    "### <span style=\"color: red;\">printLeaderboard</span>\n",
    "\n",
    "#### What it does\n",
    "This method prints the Leaderboard to the user\n",
    "\n",
    "#### Implementation\n",
    "The function begins by taking in a player argument winner. A try statement is executed where we create a player array, pastWinners, of the previous winners by making a call to importLeaderboard(). We then create another player array, currentWinners, of the current winners by making a call to updateLeaderboard(), passing in the previous winners and the current winner as arguments. This new updated array is then exported to the leaderboard csv file by making a call to exportLeaderboard().\n",
    "\n",
    "Our function then enters a FOR loop, printing the leaderboard position of each winner, their name and the amount of turns taken to win the game."
   ]
  },
  {
   "cell_type": "code",
   "execution_count": 35,
   "metadata": {},
   "outputs": [],
   "source": [
    "// Print the leaderboard to the user\n",
    "// \n",
    "public static void printLeaderboard(player winner)\n",
    "{\n",
    "    try\n",
    "    {\n",
    "        player[] pastWinners = importLeaderboard();\n",
    "        player[] currentWinners = updateLeaderboard(pastWinners, winner);\n",
    "        exportLeaderboard(currentWinners);\n",
    "        \n",
    "        System.out.println(\"*** LEADERBOARD ***\");\n",
    "        for (int i = 1; i <= currentWinners.length; i++)\n",
    "        {\n",
    "            System.out.println(\"[\" + i + \"] \" + getName(currentWinners[i-1]) + \", Turns: \" + getTurns(currentWinners[i-1]));\n",
    "        }\n",
    "    }\n",
    "    catch (IOException e)\n",
    "    {\n",
    "    }\n",
    "} // END printLeaderboard"
   ]
  },
  {
   "cell_type": "markdown",
   "metadata": {},
   "source": [
    "#### Testing"
   ]
  },
  {
   "cell_type": "code",
   "execution_count": 36,
   "metadata": {
    "tags": []
   },
   "outputs": [
    {
     "name": "stdout",
     "output_type": "stream",
     "text": [
      "*** LEADERBOARD ***\n",
      "[1] Dodo, Turns: 2\n",
      "[2] Abubakar, Turns: 10\n",
      "[3] Raymond, Turns: 15\n",
      "[4] Paul, Turns: 20\n"
     ]
    }
   ],
   "source": [
    "// TEST CODE for printLeaderBoard\n",
    "// \n",
    "player player1 = createPlayer(\"Bob\", 100, 15);\n",
    "player player2 = createPlayer(\"Mary\", 100, 25);\n",
    "player player3 = createPlayer(\"Dodo\", 100, 2);\n",
    "\n",
    "player[] players = {player1, player2};\n",
    "\n",
    "printLeaderboard(player3);"
   ]
  },
  {
   "cell_type": "markdown",
   "metadata": {},
   "source": [
    "### <span style=\"color: red;\">playGame</span>\n",
    "\n",
    "#### What it does\n",
    "This method simulates a game of secret traps and passages\n",
    "\n",
    "#### Implementation\n",
    "This procedure begins by declaring an integer array of board positions. Each index of this array corresponds to a position on the board. If the value at the index is positive, this indicates a ladder and the amount of squares to pass through. If the value at the index is negative, this indicates a trap and the amount of squares to fall back through. If the value is 0, this indicates a normal square. The procedure then creates an array of all the players and initializes a boolean value, that controls if the end of the board has been reached, as false. The procedure then enters a WHILE loop which iterates while the end of the board has not been reached.\n",
    "\n",
    "This would indicate to continue the game and the procedure branches into a FOR loop. This FOR loop iterates through our array containing our player objects simulating a players turn. The return value of this function indicates if the player has reached the end of the board. The following IF statement checks if this value is true, indicating a player has reached the end of the board. If so, the player is congratulated, the leaderboard positions printed and the game ends.\n",
    "\n",
    "If the end of the board has not been reached, the procedure exits the IF statement and exists the containing FOR statement. An IF statement follows to check if there are multiple players. If so, the procedure branches to print the board positions of each player. This is done by iterating through the players array and printing out the position of the player.\n",
    "\n",
    "Throughout the code, you may notice calls to delayCode(). This is done to delay the execution of the code so that players are able to follow along with the game on their screen as the program would otherwise print too quickly."
   ]
  },
  {
   "cell_type": "code",
   "execution_count": 37,
   "metadata": {},
   "outputs": [],
   "source": [
    "// Simulates a game of secret traps and passages\n",
    "// \n",
    "public static void playGame()\n",
    "{\n",
    "    int[] board = {0, 0, 37, 10, 0, 0, 0, 22, 0, 0,\n",
    "              0, 0, 0, 15, 0, 0, 0, 0, 0, 0,\n",
    "              21, 0, 0, 0, 0, 0, 0, 48, 0, 0,\n",
    "              0, 0, 0, 0, 0, -30, 0, 0, 0, 0,\n",
    "              0, 0, 0, 0, 0, 0, 0, -22, 0, 17,\n",
    "              0, 0, 13, 0, 0, 0, 0, 0, 20, 0,\n",
    "              0, 0, 0, -20, 0, 6, 0, 0, 0, 0,\n",
    "              21, 0, 0, 0, -10, 0, 0, 0, 0, 19,\n",
    "              0, 0, 0, 0, 0, 0, 0, -64, 0, 0,\n",
    "              0, 0, 0, 0, -39, 0, -19, 0, 0, 0};\n",
    "\n",
    "    //System.out.println(\"The board has \" + board.length + \" squares.\"); // Check how many squares board has\n",
    "    \n",
    "    player[] players = gameMode(); // Ask to load a game or play new game\n",
    "    //player[] players = newPlayers(); // Comment out\n",
    "    boolean endOfBoard = false;\n",
    "    player winner;\n",
    "    \n",
    "    while (!endOfBoard)\n",
    "    {\n",
    "        // Give each player a turn\n",
    "        for (int i = 1; i < players.length + 1; i++)\n",
    "        {\n",
    "            endOfBoard = playerTurn(board, players[i-1]);\n",
    "\n",
    "            // Checks if the player has won the game\n",
    "            if (endOfBoard)\n",
    "            {\n",
    "                winner = players[i-1];\n",
    "                System.out.println(getName(winner) + \" has won the game in \" + getTurns(winner) + \" turns! Congratulations!\\n\");\n",
    "                printLeaderboard(winner);\n",
    "                System.out.println(\"DEBUG: END OF GAME\");\n",
    "                return; // EXIT loop instead of return\n",
    "            }\n",
    "        }\n",
    "        \n",
    "        // Print positions of each player if there is more than one player\n",
    "        if (players.length > 1)\n",
    "        {\n",
    "            delayCode(1);\n",
    "            System.out.println(\"### BOARD POSITIONS ###\");\n",
    "            for (int i = 1; i < players.length + 1; i++)\n",
    "            {\n",
    "                System.out.println(\"[-] \" + getName(players[i-1]) + \" is at board position \" + getPosition(players[i-1]) + \".\");\n",
    "            }\n",
    "            delayCode(1);\n",
    "        }\n",
    "    }\n",
    "} // END playGame"
   ]
  },
  {
   "cell_type": "markdown",
   "metadata": {},
   "source": [
    "#### Testing"
   ]
  },
  {
   "cell_type": "code",
   "execution_count": 38,
   "metadata": {
    "tags": []
   },
   "outputs": [
    {
     "name": "stdout",
     "output_type": "stream",
     "text": [
      "Choose an option:\n",
      "1. Start new game\n",
      "2. Load existing game\n",
      "Choice (1 or 2): "
     ]
    },
    {
     "name": "stdin",
     "output_type": "stream",
     "text": [
      " 1\n"
     ]
    },
    {
     "name": "stdout",
     "output_type": "stream",
     "text": [
      "How many players are there? "
     ]
    },
    {
     "name": "stdin",
     "output_type": "stream",
     "text": [
      " 2\n"
     ]
    },
    {
     "name": "stdout",
     "output_type": "stream",
     "text": [
      "Enter player 1 name: \n"
     ]
    },
    {
     "name": "stdin",
     "output_type": "stream",
     "text": [
      " Paul\n"
     ]
    },
    {
     "name": "stdout",
     "output_type": "stream",
     "text": [
      "Enter player 2 name: \n"
     ]
    },
    {
     "name": "stdin",
     "output_type": "stream",
     "text": [
      " Raymond\n"
     ]
    },
    {
     "name": "stdout",
     "output_type": "stream",
     "text": [
      "\n",
      "### PAUL'S TURN ###\n",
      "[+] Rolling dice...\n",
      "Paul rolled 6.\n",
      "\n",
      "You've landed on a ladder!\n",
      "\n",
      "What won the EURO 2020 cup?\n",
      "A. Italy\n",
      "B. England\n",
      "C. Germany\n",
      "D. Brazil\n"
     ]
    },
    {
     "name": "stdin",
     "output_type": "stream",
     "text": [
      " Italy\n"
     ]
    },
    {
     "name": "stdout",
     "output_type": "stream",
     "text": [
      "Well done! You answered correctly!\n",
      "\n",
      "You've climbed up the ladder.\n",
      "\n",
      "\n",
      "### RAYMOND'S TURN ###\n",
      "[+] Rolling dice...\n",
      "Raymond rolled 5.\n",
      "\n",
      "You've landed on a normal square!\n",
      "\n",
      "### BOARD POSITIONS ###\n",
      "[-] Paul is at board position 29.\n",
      "[-] Raymond is at board position 6.\n",
      "\n",
      "### PAUL'S TURN ###\n",
      "[+] Rolling dice...\n",
      "Paul rolled 1.\n",
      "\n",
      "You've landed on a normal square!\n",
      "\n",
      "\n",
      "### RAYMOND'S TURN ###\n",
      "[+] Rolling dice...\n",
      "Raymond rolled 4.\n",
      "\n",
      "You've landed on a normal square!\n",
      "\n",
      "### BOARD POSITIONS ###\n",
      "[-] Paul is at board position 30.\n",
      "[-] Raymond is at board position 10.\n",
      "\n",
      "### PAUL'S TURN ###\n",
      "[+] Rolling dice...\n",
      "Paul rolled 5.\n",
      "\n",
      "You've landed on a trap!\n",
      "\n",
      "What won the EURO 2020 cup?\n",
      "A. Italy\n",
      "B. England\n",
      "C. Germany\n",
      "D. Brazil\n"
     ]
    },
    {
     "name": "stdin",
     "output_type": "stream",
     "text": [
      " Italy\n"
     ]
    },
    {
     "name": "stdout",
     "output_type": "stream",
     "text": [
      "Well done! You answered correctly!\n",
      "\n",
      "\n",
      "### RAYMOND'S TURN ###\n",
      "[+] Rolling dice...\n",
      "Raymond rolled 5.\n",
      "\n",
      "You've landed on a normal square!\n",
      "\n",
      "### BOARD POSITIONS ###\n",
      "[-] Paul is at board position 35.\n",
      "[-] Raymond is at board position 15.\n",
      "\n",
      "### PAUL'S TURN ###\n",
      "[+] Rolling dice...\n",
      "Paul rolled 5.\n",
      "\n",
      "You've landed on a normal square!\n",
      "\n",
      "\n",
      "### RAYMOND'S TURN ###\n",
      "[+] Rolling dice...\n",
      "Raymond rolled 5.\n",
      "\n",
      "You've landed on a ladder!\n",
      "\n",
      "What won the EURO 2020 cup?\n",
      "A. Italy\n",
      "B. England\n",
      "C. Germany\n",
      "D. Brazil\n"
     ]
    },
    {
     "name": "stdin",
     "output_type": "stream",
     "text": [
      " Germany\n"
     ]
    },
    {
     "name": "stdout",
     "output_type": "stream",
     "text": [
      "Oh no! Better luck next time.\n",
      "\n",
      "### BOARD POSITIONS ###\n",
      "[-] Paul is at board position 40.\n",
      "[-] Raymond is at board position 20.\n",
      "\n",
      "### PAUL'S TURN ###\n",
      "[+] Rolling dice...\n",
      "Paul rolled 1.\n",
      "\n",
      "You've landed on a normal square!\n",
      "\n",
      "\n",
      "### RAYMOND'S TURN ###\n",
      "[+] Rolling dice...\n",
      "Raymond rolled 2.\n",
      "\n",
      "You've landed on a normal square!\n",
      "\n",
      "### BOARD POSITIONS ###\n",
      "[-] Paul is at board position 41.\n",
      "[-] Raymond is at board position 22.\n",
      "\n",
      "### PAUL'S TURN ###\n",
      "[+] Rolling dice...\n",
      "Paul rolled 4.\n",
      "\n",
      "You've landed on a normal square!\n",
      "\n",
      "\n",
      "### RAYMOND'S TURN ###\n",
      "[+] Rolling dice...\n",
      "Raymond rolled 4.\n",
      "\n",
      "You've landed on a normal square!\n",
      "\n",
      "### BOARD POSITIONS ###\n",
      "[-] Paul is at board position 45.\n",
      "[-] Raymond is at board position 26.\n",
      "\n",
      "### PAUL'S TURN ###\n",
      "[+] Rolling dice...\n",
      "Paul rolled 4.\n",
      "\n",
      "You've landed on a ladder!\n",
      "\n",
      "What won the EURO 2020 cup?\n",
      "A. Italy\n",
      "B. England\n",
      "C. Germany\n",
      "D. Brazil\n"
     ]
    },
    {
     "name": "stdin",
     "output_type": "stream",
     "text": [
      " Italy\n"
     ]
    },
    {
     "name": "stdout",
     "output_type": "stream",
     "text": [
      "Well done! You answered correctly!\n",
      "\n",
      "You've climbed up the ladder.\n",
      "\n",
      "\n",
      "### RAYMOND'S TURN ###\n",
      "[+] Rolling dice...\n",
      "Raymond rolled 5.\n",
      "\n",
      "You've landed on a normal square!\n",
      "\n",
      "### BOARD POSITIONS ###\n",
      "[-] Paul is at board position 66.\n",
      "[-] Raymond is at board position 31.\n",
      "\n",
      "### PAUL'S TURN ###\n",
      "[+] Rolling dice...\n",
      "Paul rolled 1.\n",
      "\n",
      "You've landed on a normal square!\n",
      "\n",
      "\n",
      "### RAYMOND'S TURN ###\n",
      "[+] Rolling dice...\n",
      "Raymond rolled 4.\n",
      "\n",
      "You've landed on a trap!\n",
      "\n",
      "What won the EURO 2020 cup?\n",
      "A. Italy\n",
      "B. England\n",
      "C. Germany\n",
      "D. Brazil\n"
     ]
    },
    {
     "name": "stdin",
     "output_type": "stream",
     "text": [
      " Italy\n"
     ]
    },
    {
     "name": "stdout",
     "output_type": "stream",
     "text": [
      "Well done! You answered correctly!\n",
      "\n",
      "### BOARD POSITIONS ###\n",
      "[-] Paul is at board position 67.\n",
      "[-] Raymond is at board position 35.\n",
      "\n",
      "### PAUL'S TURN ###\n",
      "[+] Rolling dice...\n",
      "Paul rolled 5.\n",
      "\n",
      "You've landed on a normal square!\n",
      "\n",
      "\n",
      "### RAYMOND'S TURN ###\n",
      "[+] Rolling dice...\n",
      "Raymond rolled 1.\n",
      "\n",
      "You've landed on a normal square!\n",
      "\n",
      "### BOARD POSITIONS ###\n",
      "[-] Paul is at board position 72.\n",
      "[-] Raymond is at board position 36.\n",
      "\n",
      "### PAUL'S TURN ###\n",
      "[+] Rolling dice...\n",
      "Paul rolled 1.\n",
      "\n",
      "You've landed on a normal square!\n",
      "\n",
      "\n",
      "### RAYMOND'S TURN ###\n",
      "[+] Rolling dice...\n",
      "Raymond rolled 1.\n",
      "\n",
      "You've landed on a normal square!\n",
      "\n",
      "### BOARD POSITIONS ###\n",
      "[-] Paul is at board position 73.\n",
      "[-] Raymond is at board position 37.\n",
      "\n",
      "### PAUL'S TURN ###\n",
      "[+] Rolling dice...\n",
      "Paul rolled 3.\n",
      "\n",
      "You've landed on a normal square!\n",
      "\n",
      "\n",
      "### RAYMOND'S TURN ###\n",
      "[+] Rolling dice...\n",
      "Raymond rolled 5.\n",
      "\n",
      "You've landed on a normal square!\n",
      "\n",
      "### BOARD POSITIONS ###\n",
      "[-] Paul is at board position 76.\n",
      "[-] Raymond is at board position 42.\n",
      "\n",
      "### PAUL'S TURN ###\n",
      "[+] Rolling dice...\n",
      "Paul rolled 5.\n",
      "\n",
      "You've landed on a normal square!\n",
      "\n",
      "\n",
      "### RAYMOND'S TURN ###\n",
      "[+] Rolling dice...\n",
      "Raymond rolled 3.\n",
      "\n",
      "You've landed on a normal square!\n",
      "\n",
      "### BOARD POSITIONS ###\n",
      "[-] Paul is at board position 81.\n",
      "[-] Raymond is at board position 45.\n",
      "\n",
      "### PAUL'S TURN ###\n",
      "[+] Rolling dice...\n",
      "Paul rolled 5.\n",
      "\n",
      "You've landed on a normal square!\n",
      "\n",
      "\n",
      "### RAYMOND'S TURN ###\n",
      "[+] Rolling dice...\n",
      "Raymond rolled 5.\n",
      "\n",
      "You've landed on a normal square!\n",
      "\n",
      "### BOARD POSITIONS ###\n",
      "[-] Paul is at board position 86.\n",
      "[-] Raymond is at board position 50.\n",
      "\n",
      "### PAUL'S TURN ###\n",
      "[+] Rolling dice...\n",
      "Paul rolled 4.\n",
      "\n",
      "You've landed on a normal square!\n",
      "\n",
      "\n",
      "### RAYMOND'S TURN ###\n",
      "[+] Rolling dice...\n",
      "Raymond rolled 2.\n",
      "\n",
      "You've landed on a ladder!\n",
      "\n",
      "What won the EURO 2020 cup?\n",
      "A. Italy\n",
      "B. England\n",
      "C. Germany\n",
      "D. Brazil\n"
     ]
    },
    {
     "name": "stdin",
     "output_type": "stream",
     "text": [
      " Italy\n"
     ]
    },
    {
     "name": "stdout",
     "output_type": "stream",
     "text": [
      "Well done! You answered correctly!\n",
      "\n",
      "You've climbed up the ladder.\n",
      "\n",
      "### BOARD POSITIONS ###\n",
      "[-] Paul is at board position 90.\n",
      "[-] Raymond is at board position 65.\n",
      "\n",
      "### PAUL'S TURN ###\n",
      "[+] Rolling dice...\n",
      "Paul rolled 4.\n",
      "\n",
      "You've landed on a trap!\n",
      "\n",
      "What won the EURO 2020 cup?\n",
      "A. Italy\n",
      "B. England\n",
      "C. Germany\n",
      "D. Brazil\n"
     ]
    },
    {
     "name": "stdin",
     "output_type": "stream",
     "text": [
      " Italy\n"
     ]
    },
    {
     "name": "stdout",
     "output_type": "stream",
     "text": [
      "Well done! You answered correctly!\n",
      "\n",
      "\n",
      "### RAYMOND'S TURN ###\n",
      "[+] Rolling dice...\n",
      "Raymond rolled 1.\n",
      "\n",
      "You've landed on a normal square!\n",
      "\n",
      "### BOARD POSITIONS ###\n",
      "[-] Paul is at board position 94.\n",
      "[-] Raymond is at board position 66.\n",
      "\n",
      "### PAUL'S TURN ###\n",
      "[+] Rolling dice...\n",
      "Paul rolled 2.\n",
      "\n",
      "You've landed on a trap!\n",
      "\n",
      "What won the EURO 2020 cup?\n",
      "A. Italy\n",
      "B. England\n",
      "C. Germany\n",
      "D. Brazil\n"
     ]
    },
    {
     "name": "stdin",
     "output_type": "stream",
     "text": [
      " Italy\n"
     ]
    },
    {
     "name": "stdout",
     "output_type": "stream",
     "text": [
      "Well done! You answered correctly!\n",
      "\n",
      "\n",
      "### RAYMOND'S TURN ###\n",
      "[+] Rolling dice...\n",
      "Raymond rolled 4.\n",
      "\n",
      "You've landed on a ladder!\n",
      "\n",
      "What won the EURO 2020 cup?\n",
      "A. Italy\n",
      "B. England\n",
      "C. Germany\n",
      "D. Brazil\n"
     ]
    },
    {
     "name": "stdin",
     "output_type": "stream",
     "text": [
      " Italy\n"
     ]
    },
    {
     "name": "stdout",
     "output_type": "stream",
     "text": [
      "Well done! You answered correctly!\n",
      "\n",
      "You've climbed up the ladder.\n",
      "\n",
      "### BOARD POSITIONS ###\n",
      "[-] Paul is at board position 96.\n",
      "[-] Raymond is at board position 91.\n",
      "\n",
      "### PAUL'S TURN ###\n",
      "[+] Rolling dice...\n",
      "Paul rolled 2.\n",
      "\n",
      "You've landed on a normal square!\n",
      "\n",
      "\n",
      "### RAYMOND'S TURN ###\n",
      "[+] Rolling dice...\n",
      "Raymond rolled 4.\n",
      "\n",
      "You've landed on a normal square!\n",
      "\n",
      "### BOARD POSITIONS ###\n",
      "[-] Paul is at board position 98.\n",
      "[-] Raymond is at board position 95.\n",
      "\n",
      "### PAUL'S TURN ###\n",
      "[+] Rolling dice...\n",
      "Paul rolled 2.\n",
      "\n",
      "Paul has won the game in 18 turns! Congratulations!\n",
      "\n",
      "*** LEADERBOARD ***\n",
      "[1] Dodo, Turns: 2\n",
      "[2] Abubakar, Turns: 10\n",
      "[3] Raymond, Turns: 15\n",
      "[4] Paul, Turns: 18\n",
      "[5] Paul, Turns: 20\n",
      "DEBUG: END OF GAME\n"
     ]
    }
   ],
   "source": [
    "// TEST CODE for playGame\n",
    "// \n",
    "playGame();\n",
    "\n",
    "// EDGE CASES\n",
    "// All traps do not go further back than 0 preventing player positions from being less than 0.\n",
    "// Amend board position and current position by 1 as board is indexed from 0"
   ]
  },
  {
   "cell_type": "markdown",
   "metadata": {},
   "source": [
    "### Running the program\n",
    "Run the following call to simulate running the complete program."
   ]
  },
  {
   "cell_type": "code",
   "execution_count": 39,
   "metadata": {},
   "outputs": [],
   "source": [
    "// This method will be called by main in the full program below\n",
    "// playGame();"
   ]
  },
  {
   "cell_type": "markdown",
   "metadata": {},
   "source": [
    "## The complete program\n",
    "This version will only compile here. To run it copy it into a file called initials.java on your local computer and compile and run it there."
   ]
  },
  {
   "cell_type": "code",
   "execution_count": 40,
   "metadata": {},
   "outputs": [],
   "source": [
    "/******************************************\n",
    "    @author    Abubakar Aqiil\n",
    "    @date      22 Nov 2021\n",
    "    @version   1\n",
    "    \n",
    "    A program that simulates a game of secret traps and passages.\n",
    "******************************************/\n",
    "\n",
    "import java.util.Scanner; // Needed to make Scanner available\n",
    "import java.util.Random; // Needed to make Random available\n",
    "import java.util.concurrent.TimeUnit; // Needed to make TimeUnit available\n",
    "import java.util.ArrayList; // import the ArrayList class\n",
    "import java.io.*; // Needed for file input/output operations\n",
    "\n",
    "class quizQuestion\n",
    "{\n",
    "    String question;\n",
    "    String choice1;\n",
    "    String choice2;\n",
    "    String choice3;\n",
    "    String choice4;\n",
    "    String answer;\n",
    "}\n",
    "\n",
    "class player\n",
    "{\n",
    "    String name;\n",
    "    int position;\n",
    "    int turns;\n",
    "}\n",
    "\n",
    "\n",
    "class secretTrapsAndPassages\n",
    "{\n",
    "    public static void main (String [] a)\n",
    "    {\n",
    "        playGame();\n",
    "        System.exit(0);\n",
    "    } // END main\n",
    "\n",
    "    // Creates a new quizQuestion object\n",
    "    // \n",
    "    public static quizQuestion createQuizQuestion(String question, String choice1, String choice2, String choice3, String choice4, String answer)\n",
    "    {\n",
    "        quizQuestion q = new quizQuestion();\n",
    "        \n",
    "        setQuestion(q, question);\n",
    "        setChoice1(q, choice1);\n",
    "        setChoice2(q, choice2);\n",
    "        setChoice3(q, choice3);\n",
    "        setChoice4(q, choice4);\n",
    "        setAnswer(q, answer);\n",
    "        \n",
    "        return q;\n",
    "    } // END createQuizQuestion\n",
    "\n",
    "    // Asks a question and reads in an answer\n",
    "    // \n",
    "    public static String askQuestion(quizQuestion q)\n",
    "    {\n",
    "        String response;\n",
    "        Scanner scanner = new Scanner(System.in);\n",
    "        \n",
    "        System.out.println(getQuestion(q));\n",
    "        System.out.println(\"A. \" + getChoice1(q));\n",
    "        System.out.println(\"B. \" + getChoice2(q));\n",
    "        System.out.println(\"C. \" + getChoice3(q));\n",
    "        System.out.println(\"D. \" + getChoice4(q));\n",
    "\n",
    "        response = scanner.nextLine().trim(); \n",
    "        return response;\n",
    "    } // END askQuestion\n",
    "\n",
    "    // Checks if the user answered a question correctly\n",
    "    // \n",
    "    public static boolean checkAnswer(quizQuestion q, String answer)\n",
    "    {\n",
    "        if (getAnswer(q).equals(answer))\n",
    "        {\n",
    "            System.out.println(\"Well done! You answered correctly!\\n\");\n",
    "            return true;\n",
    "        }\n",
    "        else\n",
    "        {\n",
    "            System.out.println(\"Oh no! Better luck next time.\\n\");\n",
    "            return false;\n",
    "        }\n",
    "    } // END checkAnswer\n",
    "\n",
    "    // Simulates a dice roll\n",
    "    // \n",
    "    public static int rollDice()\n",
    "    {\n",
    "        Random rand = new Random();\n",
    "        int upperbound = 6; \n",
    "        \n",
    "        int roll = rand.nextInt(upperbound) + 1; \n",
    "        return roll;\n",
    "    } // END rollDice\n",
    "\n",
    "    public static player createPlayer(String name, int position, int turns)\n",
    "    {\n",
    "        player p = new player();\n",
    "        \n",
    "        setName(p, name);\n",
    "        setPosition(p, position);\n",
    "        setTurns(p, turns);\n",
    "        \n",
    "        return p;\n",
    "    } // END createPlayer\n",
    "\n",
    "    // Check if player has reached end of board\n",
    "    // \n",
    "    public static boolean checkEndBoard(int[] board, player p)\n",
    "    {\n",
    "        if (getPosition(p) >= board.length)\n",
    "        {\n",
    "            return true;\n",
    "        }\n",
    "        else\n",
    "        {\n",
    "            return false;\n",
    "        }\n",
    "    } // END checkEndBoard\n",
    "\n",
    "    // Delay the execution of a program\n",
    "    // \n",
    "    public static void delayCode(int secondsToSleep)\n",
    "    {\n",
    "        try \n",
    "        {\n",
    "        TimeUnit.SECONDS.sleep(secondsToSleep);\n",
    "        } catch (InterruptedException ie) \n",
    "        {\n",
    "        ie.printStackTrace();\n",
    "        }\n",
    "    } // delayCode\n",
    "\n",
    "    // Simulates a players turn\n",
    "    // \n",
    "    public static boolean playerTurn(int[] board, player p)\n",
    "    {\n",
    "        System.out.println(\"\\n### \" + getName(p).toUpperCase() + \"'S TURN ###\");\n",
    "        delayCode(1);\n",
    "        System.out.println(\"[+] Rolling dice...\");\n",
    "        delayCode(2);\n",
    "        int roll = rollDice();\n",
    "        System.out.println(getName(p) + \" rolled \" + roll + \".\\n\");\n",
    "        \n",
    "        int current_position = getPosition(p) + roll;\n",
    "        setPosition(p, current_position);\n",
    "        setTurns(p, getTurns(p) + 1);\n",
    "        \n",
    "        boolean endOfBoard = checkEndBoard(board, p);\n",
    "        if (endOfBoard)\n",
    "        {\n",
    "            return endOfBoard;\n",
    "        }\n",
    "        \n",
    "        int board_square = board[current_position];\n",
    "        quizQuestion question = createQuizQuestion(\"What won the EURO 2020 cup?\", \"Italy\", \"England\", \"Germany\", \"Brazil\", \"Italy\"); \n",
    "        \n",
    "        if (board_square > 0)\n",
    "        {\n",
    "            System.out.println(\"You've landed on a ladder!\\n\");\n",
    "        }\n",
    "        else if (board_square < 0)\n",
    "        {\n",
    "            System.out.println(\"You've landed on a trap!\\n\");\n",
    "        }\n",
    "        else\n",
    "        {\n",
    "            System.out.println(\"You've landed on a normal square!\\n\");\n",
    "            delayCode(1);\n",
    "            return endOfBoard;\n",
    "        }\n",
    "        \n",
    "        delayCode(1);\n",
    "        String answer = askQuestion(question);\n",
    "        boolean correct_answer = checkAnswer(question, answer);\n",
    "        delayCode(1);\n",
    "        \n",
    "        if (correct_answer && board_square > 0)\n",
    "        {\n",
    "            current_position = current_position + board_square;\n",
    "            System.out.println(\"You've climbed up the ladder.\\n\");\n",
    "            setPosition(p, current_position);\n",
    "        }\n",
    "        else if (!(correct_answer) && board_square < 0)\n",
    "        {\n",
    "            current_position = current_position + board_square;\n",
    "            System.out.println(\"You've been eaten by a snake! Better luck next time.\\n\");\n",
    "            setPosition(p, current_position);\n",
    "        }\n",
    "        else\n",
    "        {\n",
    "            return endOfBoard;\n",
    "        }\n",
    "        \n",
    "        endOfBoard = checkEndBoard(board, p);\n",
    "        if (endOfBoard)\n",
    "        {\n",
    "            return endOfBoard;\n",
    "        }\n",
    "        \n",
    "        return endOfBoard;\n",
    "    } // END playerTurn\n",
    "\n",
    "    // Initialize new players for a new game\n",
    "    // \n",
    "    public static player[] newPlayers()\n",
    "    {\n",
    "        int player_count;\n",
    "        Scanner scanner = new Scanner(System.in);\n",
    "        \n",
    "        System.out.print(\"How many players are there? \");\n",
    "        player_count = Integer.parseInt(scanner.nextLine());\n",
    "        \n",
    "        player[] players = new player[player_count];\n",
    "        String new_player_name;\n",
    "        \n",
    "        for (int i = 1; i < player_count + 1; i++)\n",
    "        {\n",
    "            System.out.println(\"Enter player \" + i + \" name: \");\n",
    "            new_player_name = scanner.nextLine();\n",
    "            player new_player = createPlayer(new_player_name, 1, 0);\n",
    "            players[i-1] = new_player;\n",
    "        }\n",
    "        \n",
    "        return players;\n",
    "    } // END newPlayers\n",
    "\n",
    "    // Export the leadboard\n",
    "    // \n",
    "    public static void exportLeaderboard(player[] players) throws IOException\n",
    "    { \n",
    "        PrintWriter outputStream = new PrintWriter(new FileWriter(\"leaderboard.csv\"));\n",
    "        outputStream.println(\"Name, Position, Turns\");\n",
    "        \n",
    "        for (player p : players) \n",
    "        { \n",
    "            outputStream.println(getName(p) + \", \" + getPosition(p) + \", \" + getTurns(p));\n",
    "        }\n",
    "        \n",
    "        outputStream.close();\n",
    "    } // END exportLeaderboard\n",
    "\n",
    "    // Export the current game\n",
    "    // \n",
    "    public static void exportGame(player[] players) throws IOException\n",
    "    {\n",
    "        Scanner scanner = new Scanner(System.in);\n",
    "        \n",
    "        System.out.print(\"Please enter the csv filename (without file extension): \");\n",
    "        String filename = scanner.nextLine();\n",
    "        \n",
    "        PrintWriter outputStream = new PrintWriter(new FileWriter(filename + \".csv\"));\n",
    "        outputStream.println(\"Name, Position, Turns\");\n",
    "        \n",
    "        for (player p : players) \n",
    "        { \n",
    "            outputStream.println(getName(p) + \", \" + getPosition(p) + \", \" + getTurns(p));\n",
    "        }\n",
    "        outputStream.close();\n",
    "    } // END exportGame\n",
    "\n",
    "    // Import leaderboard\n",
    "    // \n",
    "    public static player[] importLeaderboard() throws IOException\n",
    "    {\n",
    "        BufferedReader inputStream = new BufferedReader(new FileReader(\"leaderboard.csv\"));\n",
    "        int index = 0;\n",
    "        \n",
    "        ArrayList<player> players = new ArrayList<player>(); // Create an ArrayList object\n",
    "        \n",
    "        String line;\n",
    "        inputStream.readLine();\n",
    "        while ((line = inputStream.readLine()) != null)\n",
    "        {\n",
    "            String[] values = line.split(\", \");\n",
    "            player p = createPlayer(values[0], Integer.parseInt(values[1]), Integer.parseInt(values[2]));\n",
    "            players.add(p);\n",
    "        }\n",
    "        \n",
    "        inputStream.close();\n",
    "        \n",
    "        player[] playersArray = players.toArray(new player[players.size()]);\n",
    "        return playersArray;\n",
    "    } // END importLeaderboard\n",
    "\n",
    "    // Import existing board\n",
    "    // \n",
    "    public static player[] importGame() throws IOException\n",
    "    {\n",
    "        String filename = \"\";\n",
    "        Scanner scanner = new Scanner(System.in);\n",
    "        \n",
    "        boolean fileExists = false;\n",
    "        \n",
    "        while (!fileExists)\n",
    "        {\n",
    "            System.out.println(\"Please enter the csv filename (without file extension): \");\n",
    "            filename = scanner.nextLine();\n",
    "            \n",
    "            File f = new File(filename + \".csv\");\n",
    "\n",
    "            if (f.exists())\n",
    "            {\n",
    "                fileExists = true;\n",
    "            }\n",
    "            else\n",
    "            {\n",
    "                System.out.println(\"There was an error opening your file. Please try again.\\n\");\n",
    "            }\n",
    "        }\n",
    "\n",
    "        BufferedReader inputStream = new BufferedReader(new FileReader(filename + \".csv\"));\n",
    "        int index = 0;\n",
    "        \n",
    "        ArrayList<player> players = new ArrayList<player>();\n",
    "        \n",
    "        String line;\n",
    "        inputStream.readLine();\n",
    "        while ((line = inputStream.readLine()) != null)\n",
    "        {\n",
    "            String[] values = line.split(\", \");\n",
    "            player p = createPlayer(values[0], Integer.parseInt(values[1]), Integer.parseInt(values[2]));\n",
    "            players.add(p);\n",
    "        }\n",
    "        \n",
    "        inputStream.close();\n",
    "        \n",
    "        player[] playersArray = players.toArray(new player[players.size()]);\n",
    "        return playersArray;\n",
    "    } // END importGame\n",
    "\n",
    "    // Check if user would like to load an existing game or create a new game\n",
    "    // \n",
    "    public static player[] gameMode() \n",
    "    {\n",
    "        int response = -1;\n",
    "        Scanner scanner = new Scanner(System.in);\n",
    "        \n",
    "        player[] players;\n",
    "        boolean loop = true;\n",
    "        \n",
    "        while (loop)\n",
    "        {\n",
    "            while (!(response == 1 || response == 2))\n",
    "            {\n",
    "                System.out.println(\"Choose an option:\\n\"\n",
    "                                + \"1. Start new game\\n\"\n",
    "                                + \"2. Load existing game\");\n",
    "                System.out.print(\"Choice (1 or 2): \");\n",
    "                response = scanner.nextInt();\n",
    "                scanner.nextLine();\n",
    "            }\n",
    "            \n",
    "            if (response == 2)\n",
    "            {\n",
    "                try\n",
    "                {\n",
    "                    players = importGame();\n",
    "                    return players;\n",
    "                }\n",
    "                catch (IOException e)\n",
    "                { \n",
    "                }\n",
    "            }\n",
    "            else\n",
    "            {\n",
    "                players = newPlayers();\n",
    "                return players;\n",
    "            }\n",
    "        }\n",
    "        \n",
    "        System.out.println(\"DEBUG: Returning players array\");\n",
    "        \n",
    "        players = new player[0];\n",
    "        return players;\n",
    "    } // END gameMode\n",
    "\n",
    "    // Swap two entires in an array of type player\n",
    "    // \n",
    "    public static void swap(player[] leaderboard, int currentPosition, int nextPosition)\n",
    "    {   \n",
    "        player temp = leaderboard[currentPosition];\n",
    "        leaderboard[currentPosition] = leaderboard[nextPosition];\n",
    "        leaderboard[nextPosition] = temp;\n",
    "    } // END swap\n",
    "\n",
    "    // Sort the leaderboard by lowest turn count\n",
    "    // \n",
    "    public static void sortLeaderboard(player[] leaderboard)\n",
    "    {\n",
    "        final int ARRAY_SIZE = leaderboard.length;\n",
    "        \n",
    "        boolean sorted = false;\n",
    "        int pass = 0;\n",
    "        \n",
    "        while (!sorted)\n",
    "        {\n",
    "            sorted = true;\n",
    "            \n",
    "            for (int position = 0; position < ARRAY_SIZE - 1 - pass; position++) // Subtract 1 as array is indexed from 0\n",
    "            {\n",
    "                if (getTurns(leaderboard[position]) > getTurns(leaderboard[position + 1]))\n",
    "                {\n",
    "                    swap(leaderboard, position, position + 1);\n",
    "                    sorted = false;\n",
    "                }\n",
    "            }\n",
    "            \n",
    "            pass = pass + 1;\n",
    "        }\n",
    "    } // END sortLeaderboard\n",
    "\n",
    "    // Update the leaderboard with a new winner\n",
    "    // \n",
    "    public static player[] updateLeaderboard(player[] players, player winner)\n",
    "    {\n",
    "        int size = players.length;\n",
    "        player[] temp = new player[size + 1];\n",
    "        \n",
    "        for (int i = 0; i < size; i++)\n",
    "        {\n",
    "            temp[i] = players[i];\n",
    "        }\n",
    "\n",
    "        temp[size] = winner;\n",
    "        players = temp;\n",
    "\n",
    "        sortLeaderboard(players);\n",
    "        \n",
    "        return players;\n",
    "    } // END updateLeaderboard\n",
    "\n",
    "    // Print the leaderboard to the user\n",
    "    // \n",
    "    public static void printLeaderboard(player winner)\n",
    "    {\n",
    "        try\n",
    "        {\n",
    "            player[] pastWinners = importLeaderboard();\n",
    "            player[] currentWinners = updateLeaderboard(pastWinners, winner);\n",
    "            exportLeaderboard(currentWinners);\n",
    "            \n",
    "            System.out.println(\"*** LEADERBOARD ***\");\n",
    "            for (int i = 1; i <= currentWinners.length; i++)\n",
    "            {\n",
    "                System.out.println(\"[\" + i + \"] \" + getName(currentWinners[i-1]) + \", Turns: \" + getTurns(currentWinners[i-1]));\n",
    "            }\n",
    "        }\n",
    "        catch (IOException e)\n",
    "        {\n",
    "        }\n",
    "    } // END printLeaderboard\n",
    "    \n",
    "    // Simulates a game of secret traps and passages\n",
    "    // \n",
    "    public static void playGame()\n",
    "    {\n",
    "        int[] board = {0, 0, 37, 10, 0, 0, 0, 22, 0, 0,\n",
    "                  0, 0, 0, 15, 0, 0, 0, 0, 0, 0,\n",
    "                  21, 0, 0, 0, 0, 0, 0, 48, 0, 0,\n",
    "                  0, 0, 0, 0, 0, -30, 0, 0, 0, 0,\n",
    "                  0, 0, 0, 0, 0, 0, 0, -22, 0, 17,\n",
    "                  0, 0, 13, 0, 0, 0, 0, 0, 20, 0,\n",
    "                  0, 0, 0, -20, 0, 6, 0, 0, 0, 0,\n",
    "                  21, 0, 0, 0, -10, 0, 0, 0, 0, 19,\n",
    "                  0, 0, 0, 0, 0, 0, 0, -64, 0, 0,\n",
    "                  0, 0, 0, 0, -39, 0, -19, 0, 0, 0};\n",
    "\n",
    "        player[] players = gameMode(); // Ask to load a game or play new game\n",
    "        boolean endOfBoard = false;\n",
    "        player winner;\n",
    "\n",
    "        while (!endOfBoard)\n",
    "        {\n",
    "            // Give each player a turn\n",
    "            for (int i = 1; i < players.length + 1; i++)\n",
    "            {\n",
    "                endOfBoard = playerTurn(board, players[i-1]);\n",
    "\n",
    "                // Checks if the player has won the game\n",
    "                if (endOfBoard)\n",
    "                {\n",
    "                    winner = players[i-1];\n",
    "                    System.out.println(getName(winner) + \" has won the game in \" + getTurns(winner) + \" turns! Congratulations!\\n\");\n",
    "                    printLeaderboard(winner);\n",
    "                    System.out.println(\"DEBUG: END OF GAME\");\n",
    "                    return; // EXIT loop instead of return\n",
    "                }\n",
    "            }\n",
    "\n",
    "            // Print positions of each player if there is more than one player\n",
    "            if (players.length > 1)\n",
    "            {\n",
    "                delayCode(1);\n",
    "                System.out.println(\"### BOARD POSITIONS ###\");\n",
    "                for (int i = 1; i < players.length + 1; i++)\n",
    "                {\n",
    "                    System.out.println(\"[-] \" + getName(players[i-1]) + \" is at board position \" + getPosition(players[i-1]) + \".\");\n",
    "                }\n",
    "                delayCode(1);\n",
    "            }\n",
    "        }\n",
    "    }\n",
    "    \n",
    "    \n",
    "    // GETTER AND SETTER METHODS // \n",
    "    \n",
    "    \n",
    "    // Getter method to get the question\n",
    "    public static String getQuestion(quizQuestion q)\n",
    "    {\n",
    "        return q.question;\n",
    "    }\n",
    "\n",
    "    // Getter method to get choice 1\n",
    "    public static String getChoice1(quizQuestion q)\n",
    "    {\n",
    "        return q.choice1;\n",
    "    }\n",
    "\n",
    "    // Getter method to get choice 2\n",
    "    public static String getChoice2(quizQuestion q)\n",
    "    {\n",
    "        return q.choice2;\n",
    "    }\n",
    "\n",
    "    // Getter method to get choice 3\n",
    "    public static String getChoice3(quizQuestion q)\n",
    "    {\n",
    "        return q.choice3;\n",
    "    }\n",
    "\n",
    "    // Getter method to get choice 4\n",
    "    public static String getChoice4(quizQuestion q)\n",
    "    {\n",
    "        return q.choice4;\n",
    "    }\n",
    "\n",
    "    // Getter method to get the answer\n",
    "    public static String getAnswer(quizQuestion q)\n",
    "    {\n",
    "        return q.answer;\n",
    "    }\n",
    "\n",
    "    // Setter method to set value of question\n",
    "    public static void setQuestion(quizQuestion q, String question)\n",
    "    {\n",
    "        q.question = question;\n",
    "    }\n",
    "\n",
    "    // Setter method to set value of choice 1 for question\n",
    "    public static void setChoice1(quizQuestion q, String value)\n",
    "    {\n",
    "        q.choice1 = value;\n",
    "    }\n",
    "\n",
    "    // Setter method to set value of choice 2 for question\n",
    "    public static void setChoice2(quizQuestion q, String value)\n",
    "    {\n",
    "        q.choice2 = value;\n",
    "    }\n",
    "\n",
    "    // Setter method to set value of choice 3 for question\n",
    "    public static void setChoice3(quizQuestion q, String value)\n",
    "    {\n",
    "        q.choice3 = value;\n",
    "    }\n",
    "\n",
    "    // Setter method to set value of choice 4 for question\n",
    "    public static void setChoice4(quizQuestion q, String value)\n",
    "    {\n",
    "        q.choice4 = value;\n",
    "    }\n",
    "\n",
    "    // Setter method to set answer to question\n",
    "    public static void setAnswer(quizQuestion q, String answer)\n",
    "    {\n",
    "        q.answer = answer;\n",
    "    }\n",
    "\n",
    "    // Getter method to retrieve player name\n",
    "    public static String getName(player p)\n",
    "    {\n",
    "        return p.name;\n",
    "    }\n",
    "\n",
    "    // Getter method to retrieve player name\n",
    "    public static int getPosition(player p)\n",
    "    {\n",
    "        return p.position;\n",
    "    }\n",
    "\n",
    "    // Getter method to retrieve how many turns player has had\n",
    "    public static int getTurns(player p)\n",
    "    {\n",
    "        return p.turns;\n",
    "    }\n",
    "\n",
    "    // Setter method to set player name\n",
    "    public static void setName(player p, String name)\n",
    "    {\n",
    "        p.name = name;\n",
    "    }\n",
    "\n",
    "    // Setter method to set player position\n",
    "    public static void setPosition(player p, int position)\n",
    "    {\n",
    "        p.position = position;\n",
    "    }\n",
    "\n",
    "    // Setter method to set how many turns player has had\n",
    "    public static void setTurns(player p, int turns)\n",
    "    {\n",
    "        p.turns = turns;\n",
    "    }\n",
    "\n",
    "}\n"
   ]
  },
  {
   "cell_type": "markdown",
   "metadata": {},
   "source": [
    "**END OF LITERATE DOCUMENT**"
   ]
  }
 ],
 "metadata": {
  "kernelspec": {
   "display_name": "Java",
   "language": "java",
   "name": "java"
  },
  "language_info": {
   "codemirror_mode": "java",
   "file_extension": ".jshell",
   "mimetype": "text/x-java-source",
   "name": "Java",
   "pygments_lexer": "java",
   "version": "11.0.8+10-LTS"
  }
 },
 "nbformat": 4,
 "nbformat_minor": 4
}
